{
 "cells": [
  {
   "cell_type": "markdown",
   "id": "06c13482",
   "metadata": {},
   "source": [
    "# Load Data"
   ]
  },
  {
   "cell_type": "code",
   "execution_count": 87,
   "id": "3d74afd3",
   "metadata": {},
   "outputs": [],
   "source": [
    "from sklearn.preprocessing import MinMaxScaler, StandardScaler\n",
    "from sklearn.metrics import accuracy_score, confusion_matrix, precision_score, recall_score, f1_score\n",
    "from sklearn.model_selection import cross_val_score\n",
    "from sklearn.linear_model import LogisticRegression\n",
    "from sklearn.ensemble import RandomForestClassifier\n",
    "\n",
    "from aif360.algorithms.preprocessing import DisparateImpactRemover, LFR, Reweighing\n",
    "from aif360.datasets import AdultDataset, CompasDataset, BinaryLabelDataset\n",
    "from aif360.metrics import BinaryLabelDatasetMetric\n",
    "\n",
    "import pandas as pd\n",
    "import numpy as np\n",
    "\n",
    "seed = 64"
   ]
  },
  {
   "cell_type": "code",
   "execution_count": 2,
   "id": "0776acee",
   "metadata": {},
   "outputs": [
    {
     "name": "stderr",
     "output_type": "stream",
     "text": [
      "WARNING:root:Missing Data: 5 rows removed from CompasDataset.\n"
     ]
    }
   ],
   "source": [
    "ad_protected = 'sex'\n",
    "ad_label = \"income-per-year\"\n",
    "ad = AdultDataset(protected_attribute_names=[ad_protected],\n",
    "    privileged_classes=[['Male']], categorical_features=[],\n",
    "    features_to_keep=['age', 'education-num', 'capital-gain', 'capital-loss', 'hours-per-week'])\n",
    "\n",
    "ad_p = [{ad_protected: 1}]\n",
    "ad_u = [{ad_protected: 0}]\n",
    "\n",
    "comp_protected = 'race'\n",
    "comp_label = 'two_year_recid'\n",
    "comp = CompasDataset(protected_attribute_names=[comp_protected],\n",
    "                     privileged_classes=[[\"Caucasian\"]],\n",
    "                     features_to_keep=[\"age_cat\", \"juv_fel_count\", \"juv_misd_count\", \"juv_other_count\", \"priors_count\", \"c_charge_degree\", \"c_charge_desc\"])\n",
    "\n",
    "comp_p = [{comp_protected: 1}]\n",
    "comp_u = [{comp_protected: 0}]"
   ]
  },
  {
   "cell_type": "markdown",
   "id": "221e52b6",
   "metadata": {},
   "source": [
    "# Fairness Functions"
   ]
  },
  {
   "cell_type": "code",
   "execution_count": 89,
   "id": "442c5ad9",
   "metadata": {},
   "outputs": [],
   "source": [
    "def model_accuracy(true, pred):\n",
    "    print(f\"ACCURACY: {accuracy_score(true, pred)}\")\n",
    "    print(f\"RECALL: {recall_score(true, pred)}\")\n",
    "    print(f\"PRECISION: {precision_score(true, pred)}\")\n",
    "    print(f\"F1: {f1_score(true, pred)}\")"
   ]
  },
  {
   "cell_type": "code",
   "execution_count": 3,
   "id": "ff6ae104",
   "metadata": {},
   "outputs": [],
   "source": [
    "def fairness_metrics(y, y_pred):\n",
    "    \"\"\"Calculate fairness for subgroup of population\"\"\"\n",
    "\n",
    "    #Confusion Matrix\n",
    "    cm=confusion_matrix(y, y_pred)\n",
    "    TN, FP, FN, TP = cm.ravel()\n",
    "\n",
    "    N = TP+FP+FN+TN #Total population\n",
    "    ACC = (TP+TN)/N #Accuracy\n",
    "    TPR = TP/(TP+FN) # True positive rate\n",
    "    FPR = FP/(FP+TN) # False positive rate\n",
    "    FNR = FN/(TP+FN) # False negative rate\n",
    "    PPP = (TP + FP)/N # % predicted as positive\n",
    "\n",
    "    return np.array([ACC, TPR, FPR, FNR, PPP])"
   ]
  },
  {
   "cell_type": "code",
   "execution_count": 4,
   "id": "4392fdf6",
   "metadata": {},
   "outputs": [],
   "source": [
    "def print_metrics(privileged_metrics, unprivileged_metrics):\n",
    "  print(\"    |PRIVILEGED|UNPRIVILEGED\")\n",
    "  print(f\" ACC|{round(privileged_metrics[0], 8)}|  {round(unprivileged_metrics[0], 8)}\")\n",
    "  print(f\" TPR|{round(privileged_metrics[1], 8)}|  {round(unprivileged_metrics[1], 8)}\")\n",
    "  print(f\" FPR|{round(privileged_metrics[2], 8)}|  {round(unprivileged_metrics[2], 8)}\")\n",
    "  print(f\" FNR|{round(privileged_metrics[3], 8)}|  {round(unprivileged_metrics[3], 8)}\")\n",
    "  print(f\" PPP|{round(privileged_metrics[4], 8)}|  {round(unprivileged_metrics[4], 8)}\")"
   ]
  },
  {
   "cell_type": "code",
   "execution_count": 5,
   "id": "c223aa59",
   "metadata": {},
   "outputs": [],
   "source": [
    "def print_results(dataset_name, priv_metrics, unpriv_metrics, binm):\n",
    "    eo_tpr = priv_metrics[1] - unpriv_metrics[1]\n",
    "    eo_fpr = priv_metrics[2] - unpriv_metrics[2]\n",
    "\n",
    "    print(\"=\"*20)\n",
    "    print(dataset_name)\n",
    "    print(\"=\"*20)\n",
    "    print(f\"EQUALIZED ODDS - TPR: {eo_tpr}\")\n",
    "    print(f\"EQUALIZED ODDS - FPR: {eo_fpr}\")\n",
    "    print(f\"STAT PARITY DIFF: {binm.statistical_parity_difference()}\")\n",
    "    print(f\"DISPARATE IMPACT: {binm.disparate_impact()}\")\n",
    "    print(\"=\"*20)"
   ]
  },
  {
   "cell_type": "code",
   "execution_count": 6,
   "id": "ff2731e2",
   "metadata": {},
   "outputs": [],
   "source": [
    "def fairness_cv(model, fair_algo, X, y, feature_names, prot_attr, label, prot_index, model_params=None, cv=5):\n",
    "    if X.shape[0] != y.shape[0]:\n",
    "        raise IndexError(f\"Lengths of X and y do not match. X: {X.shape}, y: {y.shape}\")\n",
    "    \n",
    "    X_red = np.delete(X, list(range(len(X)%cv)), axis=0)\n",
    "    y_red = np.delete(y, list(range(len(X)%cv)), axis=0)\n",
    "\n",
    "    X_split = np.split(X_red, cv, axis=0)\n",
    "    y_split = np.split(y_red, cv, axis=0)\n",
    "\n",
    "    data_split_df = []\n",
    "    for section in range(len(X_split)):\n",
    "        X_df = pd.DataFrame(data=X_split[section], columns=feature_names)\n",
    "        y_df = pd.DataFrame(data=y_split[section], columns=[label])\n",
    "        df = pd.concat([X_df, y_df], axis=\"columns\")\n",
    "        data_split_df.append(df)\n",
    "\n",
    "    scores = []\n",
    "\n",
    "    for iter in range(len(data_split_df)):\n",
    "        # X_tr = data_split_df[iter].filter(items=feature_names, axis=\"columns\")\n",
    "        # y_tr = data_split_df[iter][label]\n",
    "\n",
    "        # X_te = X_split[iter].filter(items=feature_names, axis=\"columns\")\n",
    "        # y_te = y_split[iter][label]\n",
    "\n",
    "        data_split_df_cp = data_split_df.copy()\n",
    "        data_split_df_cp.pop(iter)\n",
    "        df_tr = pd.concat(data_split_df_cp, axis=0)\n",
    "        df_tr.reset_index()\n",
    "        feature_names_no_prot = feature_names.copy()\n",
    "        feature_names_no_prot.remove(prot_attr)\n",
    "        X_tr = df_tr.filter(items=feature_names_no_prot, axis=\"columns\")\n",
    "        s_tr = df_tr[prot_attr]\n",
    "\n",
    "        data_bin = BinaryLabelDataset(df=data_split_df[iter], label_names=[label], protected_attribute_names=[prot_attr])\n",
    "\n",
    "        if isinstance(fair_algo, DisparateImpactRemover):\n",
    "            # X_te_transf = fair_algo.fit_transform(X_te)\n",
    "            # y_te_transf = fair_algo.fit_transform(y_te)\n",
    "            data_transf = fair_algo.fit_transform(data_bin)\n",
    "        else:\n",
    "            # X_te_transf = fair_algo.transform(X_te)\n",
    "            # y_te_transf = fair_algo.transform(y_te)\n",
    "            data_transf = fair_algo.transform(data_bin)\n",
    "        \n",
    "        X_te_transf = np.delete(data_transf.features, prot_index, axis=1)\n",
    "        s_te = data_bin.protected_attributes.ravel()\n",
    "\n",
    "        model.fit(X_tr, s_tr)\n",
    "        s_pred = model.predict(X_te_transf)\n",
    "        score = accuracy_score(s_te, s_pred)\n",
    "        scores.append(score)\n",
    "    \n",
    "    return np.array(scores)\n",
    "        "
   ]
  },
  {
   "cell_type": "markdown",
   "id": "366af822",
   "metadata": {},
   "source": [
    "# Preprocessing"
   ]
  },
  {
   "cell_type": "code",
   "execution_count": 7,
   "id": "cd350595",
   "metadata": {},
   "outputs": [],
   "source": [
    "scaler = MinMaxScaler(copy=False)\n",
    "\n",
    "ad_scaled = ad.copy()\n",
    "ad_scaled.features = scaler.fit_transform(ad_scaled.features)\n",
    "\n",
    "comp_scaled = comp.copy()\n",
    "comp_scaled.features = scaler.fit_transform(comp_scaled.features)\n",
    "\n",
    "ad_prot_index = ad_scaled.feature_names.index(ad_protected) # gets the index of the ad_protected attribute\n",
    "comp_prot_index = comp_scaled.feature_names.index(comp_protected)\n"
   ]
  },
  {
   "cell_type": "markdown",
   "id": "48ac9f24",
   "metadata": {},
   "source": [
    "# Fairness Correction"
   ]
  },
  {
   "cell_type": "markdown",
   "id": "9db805e4",
   "metadata": {},
   "source": [
    "## No FC"
   ]
  },
  {
   "cell_type": "markdown",
   "id": "02f448cc",
   "metadata": {},
   "source": [
    "### Adult Income"
   ]
  },
  {
   "cell_type": "code",
   "execution_count": 90,
   "id": "8bf51b65",
   "metadata": {},
   "outputs": [
    {
     "name": "stdout",
     "output_type": "stream",
     "text": [
      "ACCURACY: 0.812669356295538\n",
      "RECALL: 0.37384806973848067\n",
      "PRECISION: 0.715443279313632\n",
      "F1: 0.491084573858989\n"
     ]
    },
    {
     "name": "stderr",
     "output_type": "stream",
     "text": [
      "/home/nickday/.local/lib/python3.10/site-packages/sklearn/base.py:486: UserWarning: X has feature names, but LogisticRegression was fitted without feature names\n",
      "  warnings.warn(\n",
      "/home/nickday/.local/lib/python3.10/site-packages/sklearn/base.py:486: UserWarning: X has feature names, but LogisticRegression was fitted without feature names\n",
      "  warnings.warn(\n"
     ]
    }
   ],
   "source": [
    "ad_base_train, ad_base_test = ad_scaled.split([0.66])\n",
    "ad_base_df = ad_base_test.convert_to_dataframe()[0]\n",
    "ad_base_train_X = np.delete(ad_base_train.features, ad_prot_index, axis=1)\n",
    "ad_base_train_y = ad_base_train.labels.ravel()\n",
    "ad_base_test_X = np.delete(ad_base_test.features, ad_prot_index, axis=1)\n",
    "ad_base_test_y = ad_base_test.labels.ravel()\n",
    "\n",
    "ad_base_lr = LogisticRegression(random_state=seed)\n",
    "ad_base_lr.fit(ad_base_train_X, ad_base_train_y)\n",
    "ad_base_lr_pred = ad_base_lr.predict(ad_base_test_X)\n",
    "model_accuracy(ad_base_test_y, ad_base_lr_pred)\n",
    "\n",
    "ad_base_df_priv = ad_base_df[ad_base_df[ad_protected] == ad_p[0][ad_protected]]\n",
    "ad_base_df_unpriv = ad_base_df[ad_base_df[ad_protected] == ad_u[0][ad_protected]]\n",
    "\n",
    "ad_base_df_priv_X = ad_base_df_priv.drop(labels=[ad_protected, ad_label], axis=\"columns\")\n",
    "ad_base_df_priv_y = ad_base_df_priv[ad_label]\n",
    "\n",
    "ad_base_df_unpriv_X = ad_base_df_unpriv.drop(labels=[ad_protected, ad_label], axis=\"columns\")\n",
    "ad_base_df_unpriv_y = ad_base_df_unpriv[ad_label]\n",
    "\n",
    "ad_base_priv_pred = ad_base_lr.predict(ad_base_df_priv_X)\n",
    "ad_base_unpriv_pred = ad_base_lr.predict(ad_base_df_unpriv_X)\n",
    "\n",
    "ad_base_priv_metrics = fairness_metrics(ad_base_df_priv_y, ad_base_priv_pred)\n",
    "ad_base_unpriv_metrics = fairness_metrics(ad_base_df_unpriv_y, ad_base_unpriv_pred)"
   ]
  },
  {
   "cell_type": "markdown",
   "id": "2188e23b",
   "metadata": {},
   "source": [
    "### Compas"
   ]
  },
  {
   "cell_type": "code",
   "execution_count": null,
   "id": "f9b22253",
   "metadata": {},
   "outputs": [
    {
     "name": "stdout",
     "output_type": "stream",
     "text": [
      "ACCURACY: 0.6685741535526943\n",
      "RECALL: 0.526694045174538\n",
      "PRECISION: 0.6867469879518072\n",
      "F1: 0.5961650203370134\n"
     ]
    },
    {
     "name": "stderr",
     "output_type": "stream",
     "text": [
      "/home/nickday/.local/lib/python3.10/site-packages/sklearn/base.py:486: UserWarning: X has feature names, but LogisticRegression was fitted without feature names\n",
      "  warnings.warn(\n",
      "/home/nickday/.local/lib/python3.10/site-packages/sklearn/base.py:486: UserWarning: X has feature names, but LogisticRegression was fitted without feature names\n",
      "  warnings.warn(\n"
     ]
    }
   ],
   "source": [
    "comp_base_train, comp_base_test = comp_scaled.split([0.66])\n",
    "comp_base_df = comp_base_test.convert_to_dataframe()[0]\n",
    "comp_base_train_X = np.delete(comp_base_train.features, comp_prot_index, axis=1)\n",
    "comp_base_train_y = comp_base_train.labels.ravel()\n",
    "comp_base_test_X = np.delete(comp_base_test.features, comp_prot_index, axis=1)\n",
    "comp_base_test_y = comp_base_test.labels.ravel()\n",
    "\n",
    "comp_base_lr = LogisticRegression(random_state=seed)\n",
    "comp_base_lr.fit(comp_base_train_X, comp_base_train_y)\n",
    "comp_base_lr_pred = comp_base_lr.predict(comp_base_test_X)\n",
    "model_accuracy(comp_base_test_y, comp_base_lr_pred)\n",
    "\n",
    "comp_base_df_priv = comp_base_df[comp_base_df[comp_protected] == comp_p[0][comp_protected]]\n",
    "comp_base_df_unpriv = comp_base_df[comp_base_df[comp_protected] == comp_u[0][comp_protected]]\n",
    "\n",
    "comp_base_df_priv_X = comp_base_df_priv.drop(labels=[comp_protected, comp_label], axis=\"columns\")\n",
    "comp_base_df_priv_y = comp_base_df_priv[comp_label]\n",
    "\n",
    "comp_base_df_unpriv_X = comp_base_df_unpriv.drop(labels=[comp_protected, comp_label], axis=\"columns\")\n",
    "comp_base_df_unpriv_y = comp_base_df_unpriv[comp_label]\n",
    "\n",
    "comp_base_priv_pred = comp_base_lr.predict(comp_base_df_priv_X)\n",
    "comp_base_unpriv_pred = comp_base_lr.predict(comp_base_df_unpriv_X)\n",
    "\n",
    "comp_base_priprint(f\"ACCURACY: {v_metrics = fairness_metrics(comp_base_df_priv_y, comp_base_priv_pred)\n",
    "comp_base_unpriv_metrics = fairness_metrics(comp_base_df_unpriv_y, comp_base_unpriv_pred)"
   ]
  },
  {
   "cell_type": "markdown",
   "id": "f40a0a35",
   "metadata": {},
   "source": [
    "## Disparate Impact Removal"
   ]
  },
  {
   "cell_type": "markdown",
   "id": "95a94af5",
   "metadata": {},
   "source": [
    "### Adult Income"
   ]
  },
  {
   "cell_type": "code",
   "execution_count": 10,
   "id": "d78c5147",
   "metadata": {},
   "outputs": [],
   "source": [
    "ad_dir = DisparateImpactRemover(repair_level=1.0)\n",
    "ad_dir_class, ad_dir_recon = ad_scaled.split([0.5])\n",
    "\n",
    "ad_dir_class_train, ad_dir_class_test = ad_dir_class.split([0.66])\n",
    "ad_dir_train = ad_dir.fit_transform(ad_dir_class_train)\n",
    "ad_dir_test = ad_dir.fit_transform(ad_dir_class_test)\n",
    "\n",
    "ad_dir_recon_train, ad_dir_recon_test = ad_dir_recon.split([0.66])\n",
    "ad_dir_recon_train_repr = ad_dir.fit_transform(ad_dir_recon_train)\n",
    "ad_dir_recon_test_repr = ad_dir.fit_transform(ad_dir_recon_test)"
   ]
  },
  {
   "cell_type": "code",
   "execution_count": 11,
   "id": "1ca2c065",
   "metadata": {},
   "outputs": [],
   "source": [
    "ad_dir_X_tr = np.delete(ad_dir_train.features, ad_prot_index, axis=1)  # deletes ad_protected attribute from X\n",
    "ad_dir_X_te = np.delete(ad_dir_test.features, ad_prot_index, axis=1)  # deletes ad_protected attribute from X\n",
    "ad_dir_y_tr = ad_dir_train.labels.ravel()\n",
    "ad_dir_y_te = ad_dir_test.labels.ravel()"
   ]
  },
  {
   "cell_type": "code",
   "execution_count": 92,
   "id": "8e7b4b51",
   "metadata": {},
   "outputs": [
    {
     "name": "stdout",
     "output_type": "stream",
     "text": [
      "ACCURACY: 0.8033477842003853\n",
      "RECALL: 0.3014112903225806\n",
      "PRECISION: 0.7076923076923077\n",
      "F1: 0.42276422764227645\n"
     ]
    }
   ],
   "source": [
    "ad_dir_lr = LogisticRegression(random_state=seed)\n",
    "ad_dir_lr.fit(ad_dir_X_tr, ad_dir_y_tr)\n",
    "ad_dir_lr_pred = ad_dir_lr.predict(ad_dir_X_te)\n",
    "model_accuracy(ad_dir_y_te, ad_dir_lr_pred)"
   ]
  },
  {
   "cell_type": "code",
   "execution_count": 13,
   "id": "575dc9b6",
   "metadata": {},
   "outputs": [
    {
     "name": "stderr",
     "output_type": "stream",
     "text": [
      "/home/nickday/.local/lib/python3.10/site-packages/sklearn/base.py:486: UserWarning: X has feature names, but LogisticRegression was fitted without feature names\n",
      "  warnings.warn(\n",
      "/home/nickday/.local/lib/python3.10/site-packages/sklearn/base.py:486: UserWarning: X has feature names, but LogisticRegression was fitted without feature names\n",
      "  warnings.warn(\n"
     ]
    }
   ],
   "source": [
    "ad_dir_df = ad_dir_test.convert_to_dataframe()[0]\n",
    "ad_dir_df_priv = ad_dir_df[ad_dir_df[ad_protected] == ad_p[0][ad_protected]]\n",
    "ad_dir_df_unpriv = ad_dir_df[ad_dir_df[ad_protected] == ad_u[0][ad_protected]]\n",
    "\n",
    "ad_dir_df_priv_X = ad_dir_df_priv.drop(labels=[ad_protected, ad_label], axis=\"columns\")\n",
    "ad_dir_df_priv_y = ad_dir_df_priv[ad_label]\n",
    "\n",
    "ad_dir_df_unpriv_X = ad_dir_df_unpriv.drop(labels=[ad_protected, ad_label], axis=\"columns\")\n",
    "ad_dir_df_unpriv_y = ad_dir_df_unpriv[ad_label]\n",
    "\n",
    "ad_dir_priv_pred = ad_dir_lr.predict(ad_dir_df_priv_X)\n",
    "ad_dir_unpriv_pred = ad_dir_lr.predict(ad_dir_df_unpriv_X)\n",
    "\n",
    "ad_dir_priv_metrics = fairness_metrics(ad_dir_df_priv_y, ad_dir_priv_pred)\n",
    "ad_dir_unpriv_metrics = fairness_metrics(ad_dir_df_unpriv_y, ad_dir_unpriv_pred)"
   ]
  },
  {
   "cell_type": "markdown",
   "id": "a3834797",
   "metadata": {},
   "source": [
    "### Compas"
   ]
  },
  {
   "cell_type": "code",
   "execution_count": 14,
   "id": "53a74a49",
   "metadata": {},
   "outputs": [],
   "source": [
    "comp_di = DisparateImpactRemover(repair_level=1.0)\n",
    "# comp_di_transf = comp_di.fit_transform(comp_scaled)\n",
    "comp_di_class, comp_di_recon = comp_scaled.split([0.5])\n",
    "comp_di_class_transf = comp_di.fit_transform(comp_di_class)\n",
    "comp_di_train, comp_di_test = comp_di_class_transf.split([0.66])"
   ]
  },
  {
   "cell_type": "code",
   "execution_count": 15,
   "id": "d7a35978",
   "metadata": {},
   "outputs": [],
   "source": [
    "comp_di_X_tr = np.delete(comp_di_train.features, comp_prot_index, axis=1)  # deletes comp_protected attribute from X\n",
    "comp_di_X_te = np.delete(comp_di_test.features, comp_prot_index, axis=1)   # deletes comp_protected attribute from X\n",
    "comp_di_y_tr = comp_di_train.labels.ravel()\n",
    "comp_di_y_te = comp_di_test.labels.ravel()"
   ]
  },
  {
   "cell_type": "code",
   "execution_count": 93,
   "id": "73fc7927",
   "metadata": {},
   "outputs": [
    {
     "name": "stdout",
     "output_type": "stream",
     "text": [
      "ACCURACY: 0.6234509056244042\n",
      "RECALL: 0.4576612903225806\n",
      "PRECISION: 0.6430594900849859\n",
      "F1: 0.5347467608951708\n"
     ]
    }
   ],
   "source": [
    "comp_di_lr = LogisticRegression(random_state=seed)\n",
    "comp_di_lr.fit(comp_di_X_tr, comp_di_y_tr)\n",
    "comp_di_lr_pred = comp_di_lr.predict(comp_di_X_te)\n",
    "model_accuracy(comp_di_y_te, comp_di_lr_pred)"
   ]
  },
  {
   "cell_type": "code",
   "execution_count": 17,
   "id": "b1058f5c",
   "metadata": {},
   "outputs": [
    {
     "name": "stderr",
     "output_type": "stream",
     "text": [
      "/home/nickday/.local/lib/python3.10/site-packages/sklearn/base.py:486: UserWarning: X has feature names, but LogisticRegression was fitted without feature names\n",
      "  warnings.warn(\n",
      "/home/nickday/.local/lib/python3.10/site-packages/sklearn/base.py:486: UserWarning: X has feature names, but LogisticRegression was fitted without feature names\n",
      "  warnings.warn(\n"
     ]
    }
   ],
   "source": [
    "comp_di_df = comp_di_test.convert_to_dataframe()[0]\n",
    "comp_di_df_priv = comp_di_df[comp_di_df[comp_protected] == comp_p[0][comp_protected]]\n",
    "comp_di_df_unpriv = comp_di_df[comp_di_df[comp_protected] == comp_u[0][comp_protected]]\n",
    "\n",
    "comp_di_df_priv_X = comp_di_df_priv.drop(labels=[comp_protected, comp_label], axis=\"columns\")\n",
    "comp_di_df_priv_y = comp_di_df_priv[comp_label]\n",
    "\n",
    "comp_di_df_unpriv_X = comp_di_df_unpriv.drop(labels=[comp_protected, comp_label], axis=\"columns\")\n",
    "comp_di_df_unpriv_y = comp_di_df_unpriv[comp_label]\n",
    "\n",
    "comp_di_priv_pred = comp_di_lr.predict(comp_di_df_priv_X)\n",
    "comp_di_unpriv_pred = comp_di_lr.predict(comp_di_df_unpriv_X)\n",
    "\n",
    "comp_di_priv_metrics = fairness_metrics(comp_di_df_priv_y, comp_di_priv_pred)\n",
    "comp_di_unpriv_metrics = fairness_metrics(comp_di_df_unpriv_y, comp_di_unpriv_pred)"
   ]
  },
  {
   "cell_type": "markdown",
   "id": "55d201a3",
   "metadata": {},
   "source": [
    "## Learning Fair Representations"
   ]
  },
  {
   "cell_type": "markdown",
   "id": "850d1002",
   "metadata": {},
   "source": [
    "### Adult Income"
   ]
  },
  {
   "cell_type": "code",
   "execution_count": 18,
   "id": "0274af5f",
   "metadata": {},
   "outputs": [],
   "source": [
    "ad_lfr_classification, ad_lfr_recon = ad.split([0.5], shuffle=True)\n",
    "ad_lfr_orig_train, ad_lfr_orig_test = ad_lfr_classification.split([0.66], shuffle=True)"
   ]
  },
  {
   "cell_type": "code",
   "execution_count": 19,
   "id": "86a7c29d",
   "metadata": {},
   "outputs": [],
   "source": [
    "ad_scale = StandardScaler()\n",
    "ad_lfr_orig_train.features = ad_scale.fit_transform(ad_lfr_orig_train.features)\n",
    "ad_lfr_orig_test.features = ad_scale.transform(ad_lfr_orig_test.features)"
   ]
  },
  {
   "cell_type": "code",
   "execution_count": 20,
   "id": "adcdf29b",
   "metadata": {},
   "outputs": [],
   "source": [
    "ad_privileged_groups = [{'sex': 1}]\n",
    "ad_unprivileged_groups = [{'sex': 0}]\n",
    "    \n",
    "ad_lfr = LFR(unprivileged_groups=ad_unprivileged_groups,\n",
    "         privileged_groups=ad_privileged_groups,\n",
    "         k=10, Ax=0.1, Ay=1.0, Az=2.0)\n",
    "ad_lfr = ad_lfr.fit(ad_lfr_orig_train, maxiter=5000, maxfun=5000)"
   ]
  },
  {
   "cell_type": "code",
   "execution_count": 21,
   "id": "a6b1ffd9",
   "metadata": {},
   "outputs": [],
   "source": [
    "ad_lfr_transf_train = ad_lfr.transform(ad_lfr_orig_train)\n",
    "ad_lfr_transf_test = ad_lfr.transform(ad_lfr_orig_test)\n",
    "# ad_lfr_recon_transf_train = ad_lfr.transform(ad_lfr_recon_orig_train)\n",
    "# ad_lfr_recon_transf_test = ad_lfr.transform(ad_lfr_recon_orig_test)"
   ]
  },
  {
   "cell_type": "code",
   "execution_count": 22,
   "id": "1ad7811f",
   "metadata": {},
   "outputs": [],
   "source": [
    "ad_lfr_X_tr = np.delete(ad_lfr_transf_train.features, ad_prot_index, axis=1)\n",
    "ad_lfr_X_te = np.delete(ad_lfr_transf_test.features, ad_prot_index, axis=1)\n",
    "ad_lfr_y_tr = ad_lfr_transf_train.labels.ravel()\n",
    "ad_lfr_y_te = ad_lfr_transf_test.labels.ravel()"
   ]
  },
  {
   "cell_type": "code",
   "execution_count": 94,
   "id": "7afa53a6",
   "metadata": {},
   "outputs": [
    {
     "name": "stdout",
     "output_type": "stream",
     "text": [
      "ACCURACY: 0.996266859344894\n",
      "RECALL: 0.9788557213930348\n",
      "PRECISION: 0.982521847690387\n",
      "F1: 0.9806853582554517\n"
     ]
    }
   ],
   "source": [
    "ad_lfr_lr = LogisticRegression(random_state=seed)\n",
    "ad_lfr_lr.fit(ad_lfr_X_tr, ad_lfr_y_tr)\n",
    "ad_lfr_lr_pred = ad_lfr_lr.predict(ad_lfr_X_te)\n",
    "model_accuracy(ad_lfr_y_te, ad_lfr_lr_pred)"
   ]
  },
  {
   "cell_type": "code",
   "execution_count": 24,
   "id": "b50755f0",
   "metadata": {},
   "outputs": [
    {
     "name": "stderr",
     "output_type": "stream",
     "text": [
      "/home/nickday/.local/lib/python3.10/site-packages/sklearn/base.py:486: UserWarning: X has feature names, but LogisticRegression was fitted without feature names\n",
      "  warnings.warn(\n",
      "/home/nickday/.local/lib/python3.10/site-packages/sklearn/base.py:486: UserWarning: X has feature names, but LogisticRegression was fitted without feature names\n",
      "  warnings.warn(\n"
     ]
    }
   ],
   "source": [
    "ad_lfr_df = ad_lfr_transf_test.convert_to_dataframe()[0]\n",
    "ad_lfr_df_priv = ad_lfr_df[ad_lfr_df[ad_protected] == ad_p[0][ad_protected]]\n",
    "ad_lfr_df_unpriv = ad_lfr_df[ad_lfr_df[ad_protected] == ad_u[0][ad_protected]]\n",
    "\n",
    "ad_lfr_df_priv_X = ad_lfr_df_priv.drop(labels=[ad_protected, ad_label], axis=\"columns\")\n",
    "ad_lfr_df_priv_y = ad_lfr_df_priv[ad_label]\n",
    "\n",
    "ad_lfr_df_unpriv_X = ad_lfr_df_unpriv.drop(labels=[ad_protected, ad_label], axis=\"columns\")\n",
    "ad_lfr_df_unpriv_y = ad_lfr_df_unpriv[ad_label]\n",
    "\n",
    "ad_lfr_priv_pred = ad_lfr_lr.predict(ad_lfr_df_priv_X)\n",
    "ad_lfr_unpriv_pred = ad_lfr_lr.predict(ad_lfr_df_unpriv_X)\n",
    "\n",
    "ad_lfr_priv_metrics = fairness_metrics(ad_lfr_df_priv_y, ad_lfr_priv_pred)\n",
    "ad_lfr_unpriv_metrics = fairness_metrics(ad_lfr_df_unpriv_y, ad_lfr_unpriv_pred)"
   ]
  },
  {
   "cell_type": "markdown",
   "id": "486aeaa6",
   "metadata": {},
   "source": [
    "### Compas"
   ]
  },
  {
   "cell_type": "code",
   "execution_count": 25,
   "id": "82df780b",
   "metadata": {},
   "outputs": [],
   "source": [
    "comp_df, metadata = comp.convert_to_dataframe()\n",
    "comp_df = comp_df.filter(items=[\"race\", \"juv_fel_count\", \"juv_misd_count\", \"juv_other_count\", \"priors_count\", \"age_cat=Greater than 45\", \"age_cat=Less than 25\", \"two_year_recid\", \"c_charge_degree=F\", \"c_charge_degree=M\"], axis=\"columns\")\n",
    "comp = BinaryLabelDataset(df=comp_df, label_names=metadata[\"label_names\"], protected_attribute_names=metadata[\"protected_attribute_names\"])"
   ]
  },
  {
   "cell_type": "code",
   "execution_count": 26,
   "id": "28cfdb97",
   "metadata": {},
   "outputs": [],
   "source": [
    "comp_lfr_classification, comp_lfr_recon = comp.split([0.5], shuffle=True)\n",
    "comp_lfr_orig_train, comp_lfr_orig_test = comp_lfr_classification.split([0.66], shuffle=True)\n",
    "# comp_lfr_recon_orig_train, comp_lfr_recon_orig_test = comp_recon.split([0.66], shuffle=True)"
   ]
  },
  {
   "cell_type": "code",
   "execution_count": 27,
   "id": "418b81ef",
   "metadata": {},
   "outputs": [],
   "source": [
    "comp_scale = StandardScaler()\n",
    "comp_lfr_orig_train.features = comp_scale.fit_transform(comp_lfr_orig_train.features)\n",
    "comp_lfr_orig_test.features = comp_scale.fit_transform(comp_lfr_orig_test.features)"
   ]
  },
  {
   "cell_type": "code",
   "execution_count": 28,
   "id": "ea1dc54a",
   "metadata": {},
   "outputs": [],
   "source": [
    "comp_privileged_groups = [{comp_protected: 1}]\n",
    "comp_unprivileged_groups = [{comp_protected: 0}]\n",
    "\n",
    "comp_lfr = LFR(unprivileged_groups=comp_unprivileged_groups,\n",
    "               privileged_groups=comp_privileged_groups,\n",
    "               k=10, Ax=0.005, Ay=0.75, Az=0.5)\n",
    "comp_lfr = comp_lfr.fit(comp_lfr_orig_train, maxiter=5000, maxfun=5000)"
   ]
  },
  {
   "cell_type": "code",
   "execution_count": 29,
   "id": "f0a56bae",
   "metadata": {},
   "outputs": [],
   "source": [
    "comp_lfr_transf_train = comp_lfr.transform(comp_lfr_orig_train)\n",
    "comp_lfr_transf_test = comp_lfr.transform(comp_lfr_orig_test)\n",
    "# comp_lfr_recon_transf_train = comp_lfr.transform(comp_lfr_recon_orig_train)\n",
    "# comp_lfr_recon_transf_test = comp_lfr.transform(comp_lfr_recon_orig_test)"
   ]
  },
  {
   "cell_type": "code",
   "execution_count": 30,
   "id": "4d0b35f9",
   "metadata": {},
   "outputs": [],
   "source": [
    "comp_lfr_X_tr = np.delete(comp_lfr_transf_train.features, comp_prot_index, axis=1)\n",
    "comp_lfr_X_te = np.delete(comp_lfr_transf_test.features, comp_prot_index, axis=1)\n",
    "comp_lfr_y_tr = comp_lfr_transf_train.labels.ravel()\n",
    "comp_lfr_y_te = comp_lfr_transf_test.labels.ravel()"
   ]
  },
  {
   "cell_type": "code",
   "execution_count": 95,
   "id": "108921a0",
   "metadata": {},
   "outputs": [
    {
     "name": "stdout",
     "output_type": "stream",
     "text": [
      "ACCURACY: 0.998093422306959\n",
      "RECALL: 1.0\n",
      "PRECISION: 0.9953488372093023\n",
      "F1: 0.9976689976689976\n"
     ]
    }
   ],
   "source": [
    "comp_lfr_lr = LogisticRegression(random_state=seed)\n",
    "comp_lfr_lr.fit(comp_lfr_X_tr, comp_lfr_y_tr)\n",
    "comp_lfr_lr_pred = comp_lfr_lr.predict(comp_lfr_X_te)\n",
    "model_accuracy(comp_lfr_y_te, comp_lfr_lr_pred)"
   ]
  },
  {
   "cell_type": "code",
   "execution_count": 32,
   "id": "eb5b045e",
   "metadata": {},
   "outputs": [
    {
     "name": "stderr",
     "output_type": "stream",
     "text": [
      "/home/nickday/.local/lib/python3.10/site-packages/sklearn/base.py:486: UserWarning: X has feature names, but LogisticRegression was fitted without feature names\n",
      "  warnings.warn(\n",
      "/home/nickday/.local/lib/python3.10/site-packages/sklearn/base.py:486: UserWarning: X has feature names, but LogisticRegression was fitted without feature names\n",
      "  warnings.warn(\n"
     ]
    }
   ],
   "source": [
    "comp_lfr_df = comp_lfr_transf_test.convert_to_dataframe()[0]\n",
    "comp_lfr_df_priv = comp_lfr_df[comp_lfr_df[comp_protected] == comp_p[0][comp_protected]]\n",
    "comp_lfr_df_unpriv = comp_lfr_df[comp_lfr_df[comp_protected] == comp_u[0][comp_protected]]\n",
    "\n",
    "comp_lfr_df_priv_X = comp_lfr_df_priv.drop(labels=[comp_protected, comp_label], axis=\"columns\")\n",
    "comp_lfr_df_priv_y = comp_lfr_df_priv[comp_label]\n",
    "\n",
    "comp_lfr_df_unpriv_X = comp_lfr_df_unpriv.drop(labels=[comp_protected, comp_label], axis=\"columns\")\n",
    "comp_lfr_df_unpriv_y = comp_lfr_df_unpriv[comp_label]\n",
    "\n",
    "comp_lfr_priv_pred = comp_lfr_lr.predict(comp_lfr_df_priv_X)\n",
    "comp_lfr_unpriv_pred = comp_lfr_lr.predict(comp_lfr_df_unpriv_X)\n",
    "\n",
    "comp_lfr_priv_metrics = fairness_metrics(comp_lfr_df_priv_y, comp_lfr_priv_pred)\n",
    "comp_lfr_unpriv_metrics = fairness_metrics(comp_lfr_df_unpriv_y, comp_lfr_unpriv_pred)"
   ]
  },
  {
   "cell_type": "code",
   "execution_count": 33,
   "id": "b5271f12",
   "metadata": {},
   "outputs": [],
   "source": [
    "# optim_options = {\n",
    "#     \"distortion_fun\": get_distortion_adult,\n",
    "#     \"epsilon\": 0.05,\n",
    "#     \"clist\": [0.99, 1.99, 2.99],\n",
    "#     \"dlist\": [.1, 0.05, 0]\n",
    "# }\n",
    "\n",
    "# op = OptimPreproc(OptTools, optim_options)\n",
    "# op = op.fit(train)"
   ]
  },
  {
   "cell_type": "markdown",
   "id": "bd11629b",
   "metadata": {},
   "source": [
    "## Reweighing"
   ]
  },
  {
   "cell_type": "markdown",
   "id": "87ce4623",
   "metadata": {},
   "source": [
    "### Adult Income"
   ]
  },
  {
   "cell_type": "code",
   "execution_count": 34,
   "id": "ad3165c1",
   "metadata": {},
   "outputs": [],
   "source": [
    "ad_rw_class, ad_rw_recon = ad_scaled.split([0.5])\n",
    "ad_rw_train, ad_rw_test = ad_rw_class.split([0.66])\n",
    "ad_rw_recon_train, ad_rw_recon_test = ad_rw_recon.split([0.66])"
   ]
  },
  {
   "cell_type": "code",
   "execution_count": 35,
   "id": "f5a6e268",
   "metadata": {},
   "outputs": [
    {
     "data": {
      "text/plain": [
       "<aif360.algorithms.preprocessing.reweighing.Reweighing at 0x7fa8e8869ab0>"
      ]
     },
     "execution_count": 35,
     "metadata": {},
     "output_type": "execute_result"
    }
   ],
   "source": [
    "ad_rw = Reweighing(unprivileged_groups=ad_u,\n",
    "               privileged_groups=ad_p)\n",
    "ad_rw.fit(ad_rw_train)"
   ]
  },
  {
   "cell_type": "code",
   "execution_count": 36,
   "id": "2a154981",
   "metadata": {},
   "outputs": [],
   "source": [
    "ad_rw_train = ad_rw.transform(ad_rw_train)\n",
    "ad_rw_test = ad_rw.transform(ad_rw_test)\n",
    "# ad_rw_recon_train = ad_rw.transform(ad_rw_recon_train)\n",
    "# ad_rw_recon_test = ad_rw.transform(ad_rw_recon_test)"
   ]
  },
  {
   "cell_type": "code",
   "execution_count": 37,
   "id": "c0308b13",
   "metadata": {},
   "outputs": [],
   "source": [
    "ad_rw_X_tr = np.delete(ad_rw_train.features, ad_prot_index, axis=1)\n",
    "ad_rw_y_tr = ad_rw_train.labels.ravel()\n",
    "ad_rw_X_te = np.delete(ad_rw_test.features, ad_prot_index, axis=1)\n",
    "ad_rw_y_te = ad_rw_test.labels.ravel()"
   ]
  },
  {
   "cell_type": "code",
   "execution_count": 96,
   "id": "994345a8",
   "metadata": {},
   "outputs": [
    {
     "name": "stdout",
     "output_type": "stream",
     "text": [
      "ACCURACY: 0.8034682080924855\n",
      "RECALL: 0.328125\n",
      "PRECISION: 0.6852631578947368\n",
      "F1: 0.4437627811860941\n"
     ]
    }
   ],
   "source": [
    "ad_rw_lr = LogisticRegression(random_state=seed)\n",
    "ad_rw_lr.fit(ad_rw_X_tr, ad_rw_y_tr)\n",
    "ad_rw_lr_pred = ad_rw_lr.predict(ad_rw_X_te)\n",
    "model_accuracy(ad_rw_y_te, ad_rw_lr_pred)"
   ]
  },
  {
   "cell_type": "code",
   "execution_count": 39,
   "id": "58c78633",
   "metadata": {},
   "outputs": [
    {
     "name": "stderr",
     "output_type": "stream",
     "text": [
      "/home/nickday/.local/lib/python3.10/site-packages/sklearn/base.py:486: UserWarning: X has feature names, but LogisticRegression was fitted without feature names\n",
      "  warnings.warn(\n",
      "/home/nickday/.local/lib/python3.10/site-packages/sklearn/base.py:486: UserWarning: X has feature names, but LogisticRegression was fitted without feature names\n",
      "  warnings.warn(\n"
     ]
    }
   ],
   "source": [
    "ad_rw_df = ad_rw_test.convert_to_dataframe()[0]\n",
    "ad_rw_df_priv = ad_rw_df[ad_rw_df[ad_protected] == ad_p[0][ad_protected]]\n",
    "ad_rw_df_unpriv = ad_rw_df[ad_rw_df[ad_protected] == ad_u[0][ad_protected]]\n",
    "\n",
    "ad_rw_df_priv_X = ad_rw_df_priv.drop(labels=[ad_protected, ad_label], axis=\"columns\")\n",
    "ad_rw_df_priv_y = ad_rw_df_priv[ad_label]\n",
    "\n",
    "ad_rw_df_unpriv_X = ad_rw_df_unpriv.drop(labels=[ad_protected, ad_label], axis=\"columns\")\n",
    "ad_rw_df_unpriv_y = ad_rw_df_unpriv[ad_label]\n",
    "\n",
    "ad_rw_priv_pred = ad_rw_lr.predict(ad_rw_df_priv_X)\n",
    "ad_rw_unpriv_pred = ad_rw_lr.predict(ad_rw_df_unpriv_X)\n",
    "\n",
    "ad_rw_priv_metrics = fairness_metrics(ad_rw_df_priv_y, ad_rw_priv_pred)\n",
    "ad_rw_unpriv_metrics = fairness_metrics(ad_rw_df_unpriv_y, ad_rw_unpriv_pred)"
   ]
  },
  {
   "cell_type": "markdown",
   "id": "3cf3edea",
   "metadata": {},
   "source": [
    "### Compas"
   ]
  },
  {
   "cell_type": "code",
   "execution_count": 40,
   "id": "ba0c768c",
   "metadata": {},
   "outputs": [],
   "source": [
    "comp_rw_class, comp_rw_recon = comp_scaled.split([0.5])\n",
    "comp_rw_train, comp_rw_test = comp_rw_class.split([0.66])\n",
    "# comp_rw_recon_train, comp_rw_recon_test = comp_rw_recon.split([0.66])"
   ]
  },
  {
   "cell_type": "code",
   "execution_count": 41,
   "id": "73366ef6",
   "metadata": {},
   "outputs": [
    {
     "data": {
      "text/plain": [
       "<aif360.algorithms.preprocessing.reweighing.Reweighing at 0x7fa8e886ae90>"
      ]
     },
     "execution_count": 41,
     "metadata": {},
     "output_type": "execute_result"
    }
   ],
   "source": [
    "comp_rw = Reweighing(unprivileged_groups=comp_u,\n",
    "               privileged_groups=comp_p)\n",
    "comp_rw.fit(comp_rw_train)"
   ]
  },
  {
   "cell_type": "code",
   "execution_count": 42,
   "id": "c822ef1f",
   "metadata": {},
   "outputs": [],
   "source": [
    "comp_rw_train = comp_rw.transform(comp_rw_train)\n",
    "comp_rw_test = comp_rw.transform(comp_rw_test)\n",
    "# comp_rw_recon_train = comp_rw.transform(comp_rw_recon_train)\n",
    "# comp_rw_recon_test = comp_rw.transform(comp_rw_recon_test)"
   ]
  },
  {
   "cell_type": "code",
   "execution_count": 43,
   "id": "d971f5cd",
   "metadata": {},
   "outputs": [],
   "source": [
    "comp_rw_X_tr = np.delete(comp_rw_train.features, comp_prot_index, axis=1)\n",
    "comp_rw_y_tr = comp_rw_train.labels.ravel()\n",
    "comp_rw_X_te = np.delete(comp_rw_test.features, comp_prot_index, axis=1)\n",
    "comp_rw_y_te = comp_rw_test.labels.ravel()"
   ]
  },
  {
   "cell_type": "code",
   "execution_count": null,
   "id": "536fb484",
   "metadata": {},
   "outputs": [
    {
     "name": "stdout",
     "output_type": "stream",
     "text": [
      "ACCURACY: 0.6310772163965681\n",
      "RECALL: 0.46975806451612906\n",
      "PRECISION: 0.6526610644257703\n",
      "F1: 0.5463071512309496\n"
     ]
    }
   ],
   "source": [
    "comp_rw_lr = LogisticRegression(random_state=seed)\n",
    "comp_rw_lr.fit(comp_rw_X_tr, comp_rw_y_tr)\n",
    "comp_rw_lr_pred = comp_rw_lr.predict(comp_rw_X_te)\n",
    "model_accuracy(comp_rw_y_te, comp_rw_lr_pred)"
   ]
  },
  {
   "cell_type": "code",
   "execution_count": 45,
   "id": "efee7608",
   "metadata": {},
   "outputs": [
    {
     "name": "stderr",
     "output_type": "stream",
     "text": [
      "/home/nickday/.local/lib/python3.10/site-packages/sklearn/base.py:486: UserWarning: X has feature names, but LogisticRegression was fitted without feature names\n",
      "  warnings.warn(\n",
      "/home/nickday/.local/lib/python3.10/site-packages/sklearn/base.py:486: UserWarning: X has feature names, but LogisticRegression was fitted without feature names\n",
      "  warnings.warn(\n"
     ]
    }
   ],
   "source": [
    "comp_rw_df = comp_rw_test.convert_to_dataframe()[0]\n",
    "comp_rw_df_priv = comp_rw_df[comp_rw_df[comp_protected] == comp_p[0][comp_protected]]\n",
    "comp_rw_df_unpriv = comp_rw_df[comp_rw_df[comp_protected] == comp_u[0][comp_protected]]\n",
    "\n",
    "comp_rw_df_priv_X = comp_rw_df_priv.drop(labels=[comp_protected, comp_label], axis=\"columns\")\n",
    "comp_rw_df_priv_y = comp_rw_df_priv[comp_label]\n",
    "\n",
    "comp_rw_df_unpriv_X = comp_rw_df_unpriv.drop(labels=[comp_protected, comp_label], axis=\"columns\")\n",
    "comp_rw_df_unpriv_y = comp_rw_df_unpriv[comp_label]\n",
    "\n",
    "comp_rw_priv_pred = comp_rw_lr.predict(comp_rw_df_priv_X)\n",
    "comp_rw_unpriv_pred = comp_rw_lr.predict(comp_rw_df_unpriv_X)\n",
    "\n",
    "comp_rw_priv_metrics = fairness_metrics(comp_rw_df_priv_y, comp_rw_priv_pred)\n",
    "comp_rw_unpriv_metrics = fairness_metrics(comp_rw_df_unpriv_y, comp_rw_unpriv_pred)"
   ]
  },
  {
   "cell_type": "markdown",
   "id": "fec583fc",
   "metadata": {},
   "source": [
    "# Analysing Results"
   ]
  },
  {
   "cell_type": "markdown",
   "id": "18b488de",
   "metadata": {},
   "source": [
    "## Adult Income"
   ]
  },
  {
   "cell_type": "code",
   "execution_count": 46,
   "id": "103e17e6",
   "metadata": {},
   "outputs": [
    {
     "name": "stdout",
     "output_type": "stream",
     "text": [
      "====================\n",
      "ADULT INCOME\n",
      "====================\n",
      "EQUALIZED ODDS - TPR: 0.056775930219374215\n",
      "EQUALIZED ODDS - FPR: 0.007699227162234874\n",
      "STAT PARITY DIFF: -0.19935683391752942\n",
      "DISPARATE IMPACT: 0.3526738870570151\n",
      "====================\n"
     ]
    }
   ],
   "source": [
    "ad_base_binm = BinaryLabelDatasetMetric(dataset=ad_base_test, privileged_groups=ad_p, unprivileged_groups=ad_u)\n",
    "print_results(\"ADULT INCOME\", ad_base_priv_metrics, ad_base_unpriv_metrics, ad_base_binm)"
   ]
  },
  {
   "cell_type": "code",
   "execution_count": 47,
   "id": "7afe05ad",
   "metadata": {},
   "outputs": [
    {
     "name": "stdout",
     "output_type": "stream",
     "text": [
      "====================\n",
      "ADULT INCOME\n",
      "====================\n",
      "EQUALIZED ODDS - TPR: -0.03173497792555058\n",
      "EQUALIZED ODDS - FPR: -0.0077299629800061526\n",
      "STAT PARITY DIFF: -0.03719305664817925\n",
      "DISPARATE IMPACT: 0.6737553928655773\n",
      "====================\n"
     ]
    }
   ],
   "source": [
    "ad_di_test_repd_pred = ad_dir_test.copy()\n",
    "ad_di_test_repd_pred.labels = ad_dir_lr.predict(ad_dir_X_te)\n",
    "\n",
    "ad_di_binm = BinaryLabelDatasetMetric(ad_di_test_repd_pred, privileged_groups=ad_p, unprivileged_groups=ad_u)\n",
    "print_results(\"ADULT INCOME\", ad_dir_priv_metrics, ad_dir_unpriv_metrics, ad_di_binm)"
   ]
  },
  {
   "cell_type": "code",
   "execution_count": 48,
   "id": "aa919ec0",
   "metadata": {},
   "outputs": [
    {
     "name": "stdout",
     "output_type": "stream",
     "text": [
      "====================\n",
      "ADULT INCOME\n",
      "====================\n",
      "EQUALIZED ODDS - TPR: -0.00026476943706599254\n",
      "EQUALIZED ODDS - FPR: 0.0022402686993747796\n",
      "STAT PARITY DIFF: -0.040916358398533414\n",
      "DISPARATE IMPACT: 0.6292831084087201\n",
      "====================\n"
     ]
    }
   ],
   "source": [
    "ad_lfr_binm = BinaryLabelDatasetMetric(ad_lfr_transf_test, privileged_groups=ad_p, unprivileged_groups=ad_u)\n",
    "print_results(\"ADULT INCOME\", ad_lfr_priv_metrics, ad_lfr_unpriv_metrics, ad_lfr_binm)"
   ]
  },
  {
   "cell_type": "code",
   "execution_count": 49,
   "id": "5f668a45",
   "metadata": {},
   "outputs": [
    {
     "name": "stdout",
     "output_type": "stream",
     "text": [
      "====================\n",
      "REWEIGHING\n",
      "====================\n",
      "EQUALIZED ODDS - TPR: 0.05637547569350487\n",
      "EQUALIZED ODDS - FPR: 0.0143024615015067\n",
      "STAT PARITY DIFF: 0.013815352170874512\n",
      "DISPARATE IMPACT: 1.0586173096772409\n",
      "====================\n"
     ]
    }
   ],
   "source": [
    "ad_rw_binm = BinaryLabelDatasetMetric(ad_rw_test, privileged_groups=ad_p, unprivileged_groups=ad_u)\n",
    "print_results(\"REWEIGHING\", ad_rw_priv_metrics, ad_rw_unpriv_metrics, ad_rw_binm)"
   ]
  },
  {
   "cell_type": "markdown",
   "id": "499d251f",
   "metadata": {},
   "source": [
    "## Compas"
   ]
  },
  {
   "cell_type": "code",
   "execution_count": 50,
   "id": "0e348e7b",
   "metadata": {},
   "outputs": [
    {
     "name": "stdout",
     "output_type": "stream",
     "text": [
      "====================\n",
      "COMPAS\n",
      "====================\n",
      "EQUALIZED ODDS - TPR: -0.19291596898899283\n",
      "EQUALIZED ODDS - FPR: -0.0642785188390316\n",
      "STAT PARITY DIFF: -0.10965885965885963\n",
      "DISPARATE IMPACT: 0.8199204034512092\n",
      "====================\n"
     ]
    }
   ],
   "source": [
    "comp_base_binm = BinaryLabelDatasetMetric(dataset=comp_base_test, privileged_groups=comp_p, unprivileged_groups=comp_u)\n",
    "print_results(\"COMPAS\", comp_base_priv_metrics, comp_base_unpriv_metrics, comp_base_binm)"
   ]
  },
  {
   "cell_type": "code",
   "execution_count": 51,
   "id": "0ffc8989",
   "metadata": {},
   "outputs": [
    {
     "name": "stdout",
     "output_type": "stream",
     "text": [
      "====================\n",
      "COMPAS\n",
      "====================\n",
      "EQUALIZED ODDS - TPR: -0.07881753799633961\n",
      "EQUALIZED ODDS - FPR: -0.05808571819800079\n",
      "STAT PARITY DIFF: -0.09365021770682147\n",
      "DISPARATE IMPACT: 0.8708272859216255\n",
      "====================\n"
     ]
    }
   ],
   "source": [
    "comp_di_test_repd_pred = comp_di_test.copy()\n",
    "comp_di_test_repd_pred.labels = comp_di_lr.predict(comp_di_X_te)\n",
    "\n",
    "comp_di_binm = BinaryLabelDatasetMetric(comp_di_test_repd_pred, privileged_groups=comp_p, unprivileged_groups=comp_u)\n",
    "print_results(\"COMPAS\", comp_di_priv_metrics, comp_di_unpriv_metrics, comp_di_binm)"
   ]
  },
  {
   "cell_type": "code",
   "execution_count": 52,
   "id": "55e40418",
   "metadata": {},
   "outputs": [
    {
     "name": "stdout",
     "output_type": "stream",
     "text": [
      "====================\n",
      "COMPAS\n",
      "====================\n",
      "EQUALIZED ODDS - TPR: 0.0\n",
      "EQUALIZED ODDS - FPR: 0.008928571428571428\n",
      "STAT PARITY DIFF: 0.07204577968526465\n",
      "DISPARATE IMPACT: 1.2001271657924018\n",
      "====================\n"
     ]
    }
   ],
   "source": [
    "comp_lfr_binm = BinaryLabelDatasetMetric(comp_lfr_transf_test, privileged_groups=comp_p, unprivileged_groups=comp_u)\n",
    "print_results(\"COMPAS\", comp_lfr_priv_metrics, comp_lfr_unpriv_metrics, comp_lfr_binm)"
   ]
  },
  {
   "cell_type": "code",
   "execution_count": 53,
   "id": "46e79d04",
   "metadata": {},
   "outputs": [
    {
     "name": "stdout",
     "output_type": "stream",
     "text": [
      "====================\n",
      "COMPAS\n",
      "====================\n",
      "EQUALIZED ODDS - TPR: -0.14510225192965703\n",
      "EQUALIZED ODDS - FPR: -0.0899767218951116\n",
      "STAT PARITY DIFF: -0.035190788957626395\n",
      "DISPARATE IMPACT: 0.9360151954712247\n",
      "====================\n"
     ]
    }
   ],
   "source": [
    "comp_rw_binm = BinaryLabelDatasetMetric(comp_rw_test, privileged_groups=comp_p, unprivileged_groups=comp_u)\n",
    "print_results(\"COMPAS\", comp_rw_priv_metrics, comp_rw_unpriv_metrics, comp_rw_binm)"
   ]
  },
  {
   "cell_type": "markdown",
   "id": "bf87d7b5",
   "metadata": {},
   "source": [
    "# Data Reconsruction"
   ]
  },
  {
   "cell_type": "code",
   "execution_count": 54,
   "id": "979fd8c7",
   "metadata": {},
   "outputs": [],
   "source": [
    "k=10"
   ]
  },
  {
   "cell_type": "markdown",
   "id": "a9f226b0",
   "metadata": {},
   "source": [
    "## Adult Income"
   ]
  },
  {
   "cell_type": "markdown",
   "id": "cb9122b1",
   "metadata": {},
   "source": [
    "### Base Data"
   ]
  },
  {
   "cell_type": "code",
   "execution_count": 55,
   "id": "c1cc6b70",
   "metadata": {},
   "outputs": [],
   "source": [
    "ad_classifier, ad_recon = ad_scaled.split([0.5])\n",
    "ad_train, ad_test = ad_classifier.split([0.66])\n",
    "\n",
    "ad_test_X = np.delete(ad_test.features, ad_prot_index, axis=1)\n",
    "ad_test_S = ad_test.protected_attributes.ravel()\n",
    "ad_test_Y = ad_test.labels.ravel()\n",
    "\n",
    "ad_recon_X = np.delete(ad_recon.features, ad_prot_index, axis=1)\n",
    "ad_recon_S = ad_recon.protected_attributes.ravel()\n",
    "ad_recon_Y = ad_recon.labels.ravel()"
   ]
  },
  {
   "cell_type": "code",
   "execution_count": 56,
   "id": "b64d174a",
   "metadata": {},
   "outputs": [
    {
     "name": "stdout",
     "output_type": "stream",
     "text": [
      "RECONSTRUCTION ACCURACY: 0.6777456647398844\n"
     ]
    }
   ],
   "source": [
    "ad_base_recon_lr = LogisticRegression(random_state=seed, max_iter=500)\n",
    "ad_base_recon_clf = RandomForestClassifier(random_state=seed)\n",
    "ad_base_recon_lr.fit(ad_recon_X, ad_recon_S)\n",
    "ad_base_recon_lr_pred = ad_base_recon_lr.predict(ad_test_X)\n",
    "print(f\"RECONSTRUCTION ACCURACY: {accuracy_score(ad_test_S, ad_base_recon_lr_pred)}\")"
   ]
  },
  {
   "cell_type": "code",
   "execution_count": 57,
   "id": "8adf84c1",
   "metadata": {},
   "outputs": [
    {
     "name": "stdout",
     "output_type": "stream",
     "text": [
      "MIN: 0.6646191646191646\n",
      " Q1: 0.6698402948402948\n",
      "MED: 0.6805896805896806\n",
      " Q3: 0.686015561015561\n",
      "MAX: 0.6883701883701884\n"
     ]
    }
   ],
   "source": [
    "ad_base_scores_lr = cross_val_score(ad_base_recon_lr, ad_recon_X, ad_recon_S, cv=k)\n",
    "print(f\"MIN: {ad_base_scores_lr.min()}\")\n",
    "print(f\" Q1: {np.percentile(ad_base_scores_lr, 25)}\")\n",
    "print(f\"MED: {np.percentile(ad_base_scores_lr, 50)}\")\n",
    "print(f\" Q3: {np.percentile(ad_base_scores_lr, 75)}\")\n",
    "print(f\"MAX: {ad_base_scores_lr.max()}\")"
   ]
  },
  {
   "cell_type": "code",
   "execution_count": 58,
   "id": "a5de9764",
   "metadata": {},
   "outputs": [
    {
     "name": "stdout",
     "output_type": "stream",
     "text": [
      "MIN: 0.6552006552006552\n",
      " Q1: 0.6621636288541732\n",
      "MED: 0.6648239148239148\n",
      " Q3: 0.6702497952497952\n",
      "MAX: 0.6797706797706797\n"
     ]
    }
   ],
   "source": [
    "ad_base_scores_clf = cross_val_score(ad_base_recon_clf, ad_recon_X, ad_recon_S, cv=k)\n",
    "print(f\"MIN: {ad_base_scores_clf.min()}\")\n",
    "print(f\" Q1: {np.percentile(ad_base_scores_clf, 25)}\")\n",
    "print(f\"MED: {np.percentile(ad_base_scores_clf, 50)}\")\n",
    "print(f\" Q3: {np.percentile(ad_base_scores_clf, 75)}\")\n",
    "print(f\"MAX: {ad_base_scores_clf.max()}\")"
   ]
  },
  {
   "cell_type": "markdown",
   "id": "e88fa367",
   "metadata": {},
   "source": [
    "### Disparate Impact Removal"
   ]
  },
  {
   "cell_type": "code",
   "execution_count": 59,
   "id": "80b319f6",
   "metadata": {},
   "outputs": [],
   "source": [
    "ad_dir_recon_X = ad_dir_recon.features\n",
    "ad_dir_recon_y = ad_dir_recon.labels.ravel()"
   ]
  },
  {
   "cell_type": "code",
   "execution_count": 60,
   "id": "9c6567f7",
   "metadata": {},
   "outputs": [
    {
     "name": "stderr",
     "output_type": "stream",
     "text": [
      "/home/nickday/.local/lib/python3.10/site-packages/sklearn/base.py:493: UserWarning: X does not have valid feature names, but LogisticRegression was fitted with feature names\n",
      "  warnings.warn(\n",
      "/home/nickday/.local/lib/python3.10/site-packages/sklearn/base.py:493: UserWarning: X does not have valid feature names, but LogisticRegression was fitted with feature names\n",
      "  warnings.warn(\n",
      "/home/nickday/.local/lib/python3.10/site-packages/sklearn/base.py:493: UserWarning: X does not have valid feature names, but LogisticRegression was fitted with feature names\n",
      "  warnings.warn(\n",
      "/home/nickday/.local/lib/python3.10/site-packages/sklearn/base.py:493: UserWarning: X does not have valid feature names, but LogisticRegression was fitted with feature names\n",
      "  warnings.warn(\n",
      "/home/nickday/.local/lib/python3.10/site-packages/sklearn/base.py:493: UserWarning: X does not have valid feature names, but LogisticRegression was fitted with feature names\n",
      "  warnings.warn(\n",
      "/home/nickday/.local/lib/python3.10/site-packages/sklearn/base.py:493: UserWarning: X does not have valid feature names, but LogisticRegression was fitted with feature names\n",
      "  warnings.warn(\n",
      "/home/nickday/.local/lib/python3.10/site-packages/sklearn/base.py:493: UserWarning: X does not have valid feature names, but LogisticRegression was fitted with feature names\n",
      "  warnings.warn(\n",
      "/home/nickday/.local/lib/python3.10/site-packages/sklearn/base.py:493: UserWarning: X does not have valid feature names, but LogisticRegression was fitted with feature names\n",
      "  warnings.warn(\n",
      "/home/nickday/.local/lib/python3.10/site-packages/sklearn/base.py:493: UserWarning: X does not have valid feature names, but LogisticRegression was fitted with feature names\n",
      "  warnings.warn(\n",
      "/home/nickday/.local/lib/python3.10/site-packages/sklearn/base.py:493: UserWarning: X does not have valid feature names, but LogisticRegression was fitted with feature names\n",
      "  warnings.warn(\n",
      "/home/nickday/.local/lib/python3.10/site-packages/sklearn/base.py:493: UserWarning: X does not have valid feature names, but RandomForestClassifier was fitted with feature names\n",
      "  warnings.warn(\n",
      "/home/nickday/.local/lib/python3.10/site-packages/sklearn/base.py:493: UserWarning: X does not have valid feature names, but RandomForestClassifier was fitted with feature names\n",
      "  warnings.warn(\n",
      "/home/nickday/.local/lib/python3.10/site-packages/sklearn/base.py:493: UserWarning: X does not have valid feature names, but RandomForestClassifier was fitted with feature names\n",
      "  warnings.warn(\n",
      "/home/nickday/.local/lib/python3.10/site-packages/sklearn/base.py:493: UserWarning: X does not have valid feature names, but RandomForestClassifier was fitted with feature names\n",
      "  warnings.warn(\n",
      "/home/nickday/.local/lib/python3.10/site-packages/sklearn/base.py:493: UserWarning: X does not have valid feature names, but RandomForestClassifier was fitted with feature names\n",
      "  warnings.warn(\n",
      "/home/nickday/.local/lib/python3.10/site-packages/sklearn/base.py:493: UserWarning: X does not have valid feature names, but RandomForestClassifier was fitted with feature names\n",
      "  warnings.warn(\n",
      "/home/nickday/.local/lib/python3.10/site-packages/sklearn/base.py:493: UserWarning: X does not have valid feature names, but RandomForestClassifier was fitted with feature names\n",
      "  warnings.warn(\n",
      "/home/nickday/.local/lib/python3.10/site-packages/sklearn/base.py:493: UserWarning: X does not have valid feature names, but RandomForestClassifier was fitted with feature names\n",
      "  warnings.warn(\n",
      "/home/nickday/.local/lib/python3.10/site-packages/sklearn/base.py:493: UserWarning: X does not have valid feature names, but RandomForestClassifier was fitted with feature names\n",
      "  warnings.warn(\n",
      "/home/nickday/.local/lib/python3.10/site-packages/sklearn/base.py:493: UserWarning: X does not have valid feature names, but RandomForestClassifier was fitted with feature names\n",
      "  warnings.warn(\n"
     ]
    }
   ],
   "source": [
    "ad_dir_recon_lr = LogisticRegression(random_state=seed)\n",
    "ad_dir_recon_clf = RandomForestClassifier(random_state=seed)\n",
    "ad_dir_recon_lr_scores = fairness_cv(ad_dir_recon_lr, ad_dir, ad_dir_recon_X, ad_dir_recon_y, ad_recon.feature_names, ad_protected, ad_recon.label_names[0], prot_index=ad_prot_index, cv=k)\n",
    "ad_dir_recon_clf_scores = fairness_cv(ad_dir_recon_clf, ad_dir, ad_dir_recon_X, ad_dir_recon_y, ad_recon.feature_names, ad_protected, ad_recon.label_names[0], prot_index=ad_prot_index, cv=k)"
   ]
  },
  {
   "cell_type": "code",
   "execution_count": 61,
   "id": "fb4940f0",
   "metadata": {},
   "outputs": [
    {
     "name": "stdout",
     "output_type": "stream",
     "text": [
      "MIN: 0.5687960687960688\n",
      " Q1: 0.6394348894348895\n",
      "MED: 0.6482391482391483\n",
      " Q3: 0.6535626535626536\n",
      "MAX: 0.6666666666666666\n"
     ]
    }
   ],
   "source": [
    "print(f\"MIN: {ad_dir_recon_lr_scores.min()}\")\n",
    "print(f\" Q1: {np.percentile(ad_dir_recon_lr_scores, 25)}\")\n",
    "print(f\"MED: {np.percentile(ad_dir_recon_lr_scores, 50)}\")\n",
    "print(f\" Q3: {np.percentile(ad_dir_recon_lr_scores, 75)}\")\n",
    "print(f\"MAX: {ad_dir_recon_lr_scores.max()}\")"
   ]
  },
  {
   "cell_type": "code",
   "execution_count": 62,
   "id": "e27fea7a",
   "metadata": {},
   "outputs": [
    {
     "name": "stdout",
     "output_type": "stream",
     "text": [
      "MIN: 0.3927108927108927\n",
      " Q1: 0.42342342342342343\n",
      "MED: 0.43652743652743653\n",
      " Q3: 0.45382882882882886\n",
      "MAX: 0.481981981981982\n"
     ]
    }
   ],
   "source": [
    "print(f\"MIN: {ad_dir_recon_clf_scores.min()}\")\n",
    "print(f\" Q1: {np.percentile(ad_dir_recon_clf_scores, 25)}\")\n",
    "print(f\"MED: {np.percentile(ad_dir_recon_clf_scores, 50)}\")\n",
    "print(f\" Q3: {np.percentile(ad_dir_recon_clf_scores, 75)}\")\n",
    "print(f\"MAX: {ad_dir_recon_clf_scores.max()}\")"
   ]
  },
  {
   "cell_type": "markdown",
   "id": "8e1a8cac",
   "metadata": {},
   "source": [
    "### Learning Fair Representations"
   ]
  },
  {
   "cell_type": "code",
   "execution_count": 63,
   "id": "d770dd6b",
   "metadata": {},
   "outputs": [],
   "source": [
    "ad_lfr_recon_X = ad_lfr_recon.features\n",
    "ad_lfr_recon_y = ad_lfr_recon.labels.ravel()"
   ]
  },
  {
   "cell_type": "code",
   "execution_count": 64,
   "id": "2374064a",
   "metadata": {},
   "outputs": [
    {
     "name": "stderr",
     "output_type": "stream",
     "text": [
      "/home/nickday/.local/lib/python3.10/site-packages/sklearn/base.py:493: UserWarning: X does not have valid feature names, but LogisticRegression was fitted with feature names\n",
      "  warnings.warn(\n",
      "/home/nickday/.local/lib/python3.10/site-packages/sklearn/base.py:493: UserWarning: X does not have valid feature names, but LogisticRegression was fitted with feature names\n",
      "  warnings.warn(\n",
      "/home/nickday/.local/lib/python3.10/site-packages/sklearn/base.py:493: UserWarning: X does not have valid feature names, but LogisticRegression was fitted with feature names\n",
      "  warnings.warn(\n",
      "/home/nickday/.local/lib/python3.10/site-packages/sklearn/base.py:493: UserWarning: X does not have valid feature names, but LogisticRegression was fitted with feature names\n",
      "  warnings.warn(\n",
      "/home/nickday/.local/lib/python3.10/site-packages/sklearn/base.py:493: UserWarning: X does not have valid feature names, but LogisticRegression was fitted with feature names\n",
      "  warnings.warn(\n",
      "/home/nickday/.local/lib/python3.10/site-packages/sklearn/base.py:493: UserWarning: X does not have valid feature names, but LogisticRegression was fitted with feature names\n",
      "  warnings.warn(\n",
      "/home/nickday/.local/lib/python3.10/site-packages/sklearn/base.py:493: UserWarning: X does not have valid feature names, but LogisticRegression was fitted with feature names\n",
      "  warnings.warn(\n",
      "/home/nickday/.local/lib/python3.10/site-packages/sklearn/base.py:493: UserWarning: X does not have valid feature names, but LogisticRegression was fitted with feature names\n",
      "  warnings.warn(\n",
      "/home/nickday/.local/lib/python3.10/site-packages/sklearn/base.py:493: UserWarning: X does not have valid feature names, but LogisticRegression was fitted with feature names\n",
      "  warnings.warn(\n",
      "/home/nickday/.local/lib/python3.10/site-packages/sklearn/base.py:493: UserWarning: X does not have valid feature names, but LogisticRegression was fitted with feature names\n",
      "  warnings.warn(\n",
      "/home/nickday/.local/lib/python3.10/site-packages/sklearn/base.py:493: UserWarning: X does not have valid feature names, but RandomForestClassifier was fitted with feature names\n",
      "  warnings.warn(\n",
      "/home/nickday/.local/lib/python3.10/site-packages/sklearn/base.py:493: UserWarning: X does not have valid feature names, but RandomForestClassifier was fitted with feature names\n",
      "  warnings.warn(\n",
      "/home/nickday/.local/lib/python3.10/site-packages/sklearn/base.py:493: UserWarning: X does not have valid feature names, but RandomForestClassifier was fitted with feature names\n",
      "  warnings.warn(\n",
      "/home/nickday/.local/lib/python3.10/site-packages/sklearn/base.py:493: UserWarning: X does not have valid feature names, but RandomForestClassifier was fitted with feature names\n",
      "  warnings.warn(\n",
      "/home/nickday/.local/lib/python3.10/site-packages/sklearn/base.py:493: UserWarning: X does not have valid feature names, but RandomForestClassifier was fitted with feature names\n",
      "  warnings.warn(\n",
      "/home/nickday/.local/lib/python3.10/site-packages/sklearn/base.py:493: UserWarning: X does not have valid feature names, but RandomForestClassifier was fitted with feature names\n",
      "  warnings.warn(\n",
      "/home/nickday/.local/lib/python3.10/site-packages/sklearn/base.py:493: UserWarning: X does not have valid feature names, but RandomForestClassifier was fitted with feature names\n",
      "  warnings.warn(\n",
      "/home/nickday/.local/lib/python3.10/site-packages/sklearn/base.py:493: UserWarning: X does not have valid feature names, but RandomForestClassifier was fitted with feature names\n",
      "  warnings.warn(\n",
      "/home/nickday/.local/lib/python3.10/site-packages/sklearn/base.py:493: UserWarning: X does not have valid feature names, but RandomForestClassifier was fitted with feature names\n",
      "  warnings.warn(\n",
      "/home/nickday/.local/lib/python3.10/site-packages/sklearn/base.py:493: UserWarning: X does not have valid feature names, but RandomForestClassifier was fitted with feature names\n",
      "  warnings.warn(\n"
     ]
    }
   ],
   "source": [
    "ad_lfr_recon_lr = LogisticRegression(random_state=seed)\n",
    "ad_lfr_recon_clf = RandomForestClassifier(random_state=seed)\n",
    "ad_lfr_lr_scores = fairness_cv(ad_lfr_recon_lr, ad_lfr, ad_lfr_recon_X, ad_lfr_recon_y, ad_lfr_recon.feature_names, ad_protected, ad_lfr_recon.label_names[0], ad_prot_index, cv=k)\n",
    "ad_lfr_clf_scores = fairness_cv(ad_lfr_recon_clf, ad_lfr, ad_lfr_recon_X, ad_lfr_recon_y, ad_lfr_recon.feature_names, ad_protected, ad_lfr_recon.label_names[0], ad_prot_index, cv=k)"
   ]
  },
  {
   "cell_type": "code",
   "execution_count": 65,
   "id": "b054f535",
   "metadata": {},
   "outputs": [
    {
     "name": "stdout",
     "output_type": "stream",
     "text": [
      "MIN: 0.39926289926289926\n",
      " Q1: 0.42065929565929566\n",
      "MED: 0.42588042588042585\n",
      " Q3: 0.4334561834561834\n",
      "MAX: 0.4451269451269451\n"
     ]
    }
   ],
   "source": [
    "print(f\"MIN: {ad_lfr_lr_scores.min()}\")\n",
    "print(f\" Q1: {np.percentile(ad_lfr_lr_scores, 25)}\")\n",
    "print(f\"MED: {np.percentile(ad_lfr_lr_scores, 50)}\")\n",
    "print(f\" Q3: {np.percentile(ad_lfr_lr_scores, 75)}\")\n",
    "print(f\"MAX: {ad_lfr_lr_scores.max()}\")"
   ]
  },
  {
   "cell_type": "code",
   "execution_count": 66,
   "id": "afa636fd",
   "metadata": {},
   "outputs": [
    {
     "name": "stdout",
     "output_type": "stream",
     "text": [
      "MIN: 0.21171171171171171\n",
      " Q1: 0.2508190008190008\n",
      "MED: 0.26453726453726456\n",
      " Q3: 0.27774365274365276\n",
      "MAX: 0.3050778050778051\n"
     ]
    }
   ],
   "source": [
    "print(f\"MIN: {ad_lfr_clf_scores.min()}\")\n",
    "print(f\" Q1: {np.percentile(ad_lfr_clf_scores, 25)}\")\n",
    "print(f\"MED: {np.percentile(ad_lfr_clf_scores, 50)}\")\n",
    "print(f\" Q3: {np.percentile(ad_lfr_clf_scores, 75)}\")\n",
    "print(f\"MAX: {ad_lfr_clf_scores.max()}\")"
   ]
  },
  {
   "cell_type": "markdown",
   "id": "2e707666",
   "metadata": {},
   "source": [
    "### Reweighing"
   ]
  },
  {
   "cell_type": "code",
   "execution_count": 67,
   "id": "c932459c",
   "metadata": {},
   "outputs": [],
   "source": [
    "ad_rw_recon_X = ad_rw_recon.features\n",
    "ad_rw_recon_y = ad_rw_recon.labels.ravel()"
   ]
  },
  {
   "cell_type": "code",
   "execution_count": 68,
   "id": "7211869f",
   "metadata": {},
   "outputs": [
    {
     "name": "stderr",
     "output_type": "stream",
     "text": [
      "/home/nickday/.local/lib/python3.10/site-packages/sklearn/base.py:493: UserWarning: X does not have valid feature names, but LogisticRegression was fitted with feature names\n",
      "  warnings.warn(\n"
     ]
    },
    {
     "name": "stderr",
     "output_type": "stream",
     "text": [
      "/home/nickday/.local/lib/python3.10/site-packages/sklearn/base.py:493: UserWarning: X does not have valid feature names, but LogisticRegression was fitted with feature names\n",
      "  warnings.warn(\n",
      "/home/nickday/.local/lib/python3.10/site-packages/sklearn/base.py:493: UserWarning: X does not have valid feature names, but LogisticRegression was fitted with feature names\n",
      "  warnings.warn(\n",
      "/home/nickday/.local/lib/python3.10/site-packages/sklearn/base.py:493: UserWarning: X does not have valid feature names, but LogisticRegression was fitted with feature names\n",
      "  warnings.warn(\n",
      "/home/nickday/.local/lib/python3.10/site-packages/sklearn/base.py:493: UserWarning: X does not have valid feature names, but LogisticRegression was fitted with feature names\n",
      "  warnings.warn(\n",
      "/home/nickday/.local/lib/python3.10/site-packages/sklearn/base.py:493: UserWarning: X does not have valid feature names, but LogisticRegression was fitted with feature names\n",
      "  warnings.warn(\n",
      "/home/nickday/.local/lib/python3.10/site-packages/sklearn/base.py:493: UserWarning: X does not have valid feature names, but LogisticRegression was fitted with feature names\n",
      "  warnings.warn(\n",
      "/home/nickday/.local/lib/python3.10/site-packages/sklearn/base.py:493: UserWarning: X does not have valid feature names, but LogisticRegression was fitted with feature names\n",
      "  warnings.warn(\n",
      "/home/nickday/.local/lib/python3.10/site-packages/sklearn/base.py:493: UserWarning: X does not have valid feature names, but LogisticRegression was fitted with feature names\n",
      "  warnings.warn(\n",
      "/home/nickday/.local/lib/python3.10/site-packages/sklearn/base.py:493: UserWarning: X does not have valid feature names, but LogisticRegression was fitted with feature names\n",
      "  warnings.warn(\n",
      "/home/nickday/.local/lib/python3.10/site-packages/sklearn/base.py:493: UserWarning: X does not have valid feature names, but RandomForestClassifier was fitted with feature names\n",
      "  warnings.warn(\n",
      "/home/nickday/.local/lib/python3.10/site-packages/sklearn/base.py:493: UserWarning: X does not have valid feature names, but RandomForestClassifier was fitted with feature names\n",
      "  warnings.warn(\n",
      "/home/nickday/.local/lib/python3.10/site-packages/sklearn/base.py:493: UserWarning: X does not have valid feature names, but RandomForestClassifier was fitted with feature names\n",
      "  warnings.warn(\n",
      "/home/nickday/.local/lib/python3.10/site-packages/sklearn/base.py:493: UserWarning: X does not have valid feature names, but RandomForestClassifier was fitted with feature names\n",
      "  warnings.warn(\n",
      "/home/nickday/.local/lib/python3.10/site-packages/sklearn/base.py:493: UserWarning: X does not have valid feature names, but RandomForestClassifier was fitted with feature names\n",
      "  warnings.warn(\n",
      "/home/nickday/.local/lib/python3.10/site-packages/sklearn/base.py:493: UserWarning: X does not have valid feature names, but RandomForestClassifier was fitted with feature names\n",
      "  warnings.warn(\n",
      "/home/nickday/.local/lib/python3.10/site-packages/sklearn/base.py:493: UserWarning: X does not have valid feature names, but RandomForestClassifier was fitted with feature names\n",
      "  warnings.warn(\n",
      "/home/nickday/.local/lib/python3.10/site-packages/sklearn/base.py:493: UserWarning: X does not have valid feature names, but RandomForestClassifier was fitted with feature names\n",
      "  warnings.warn(\n",
      "/home/nickday/.local/lib/python3.10/site-packages/sklearn/base.py:493: UserWarning: X does not have valid feature names, but RandomForestClassifier was fitted with feature names\n",
      "  warnings.warn(\n",
      "/home/nickday/.local/lib/python3.10/site-packages/sklearn/base.py:493: UserWarning: X does not have valid feature names, but RandomForestClassifier was fitted with feature names\n",
      "  warnings.warn(\n"
     ]
    }
   ],
   "source": [
    "ad_rw_recon_lr = LogisticRegression(random_state=seed)\n",
    "ad_rw_recon_clf = RandomForestClassifier(random_state=seed)\n",
    "ad_rw_lr_scores = fairness_cv(ad_rw_recon_lr, ad_rw, ad_rw_recon_X, ad_rw_recon_y, ad_rw_recon.feature_names, ad_protected, ad_rw_recon.label_names[0], ad_prot_index, cv=k)\n",
    "ad_rw_clf_scores = fairness_cv(ad_rw_recon_clf, ad_rw, ad_rw_recon_X, ad_rw_recon_y, ad_rw_recon.feature_names, ad_protected, ad_rw_recon.label_names[0], ad_prot_index, cv=k)"
   ]
  },
  {
   "cell_type": "code",
   "execution_count": 69,
   "id": "185cb827",
   "metadata": {},
   "outputs": [
    {
     "name": "stdout",
     "output_type": "stream",
     "text": [
      "MIN: 0.6621621621621622\n",
      " Q1: 0.6735257985257985\n",
      "MED: 0.6816134316134317\n",
      " Q3: 0.6832514332514332\n",
      "MAX: 0.6855036855036855\n"
     ]
    }
   ],
   "source": [
    "print(f\"MIN: {ad_rw_lr_scores.min()}\")\n",
    "print(f\" Q1: {np.percentile(ad_rw_lr_scores, 25)}\")\n",
    "print(f\"MED: {np.percentile(ad_rw_lr_scores, 50)}\")\n",
    "print(f\" Q3: {np.percentile(ad_rw_lr_scores, 75)}\")\n",
    "print(f\"MAX: {ad_rw_lr_scores.max()}\")"
   ]
  },
  {
   "cell_type": "code",
   "execution_count": 70,
   "id": "ab994200",
   "metadata": {},
   "outputs": [
    {
     "name": "stdout",
     "output_type": "stream",
     "text": [
      "MIN: 0.6515151515151515\n",
      " Q1: 0.6629811629811629\n",
      "MED: 0.6687141687141687\n",
      " Q3: 0.6715806715806716\n",
      "MAX: 0.6826371826371826\n"
     ]
    }
   ],
   "source": [
    "print(f\"MIN: {ad_rw_clf_scores.min()}\")\n",
    "print(f\" Q1: {np.percentile(ad_rw_clf_scores, 25)}\")\n",
    "print(f\"MED: {np.percentile(ad_rw_clf_scores, 50)}\")\n",
    "print(f\" Q3: {np.percentile(ad_rw_clf_scores, 75)}\")\n",
    "print(f\"MAX: {ad_rw_clf_scores.max()}\")"
   ]
  },
  {
   "cell_type": "markdown",
   "id": "420868fb",
   "metadata": {},
   "source": [
    "## Compas"
   ]
  },
  {
   "cell_type": "markdown",
   "id": "d9283e7e",
   "metadata": {},
   "source": [
    "### No FC"
   ]
  },
  {
   "cell_type": "code",
   "execution_count": 71,
   "id": "3b626323",
   "metadata": {},
   "outputs": [],
   "source": [
    "comp_classifier, comp_recon = comp_scaled.split([0.5])\n",
    "comp_train, comp_test = comp_classifier.split([0.66])\n",
    "\n",
    "comp_test_X = np.delete(comp_test.features, comp_prot_index, axis=1)\n",
    "comp_test_S = comp_test.protected_attributes.ravel()\n",
    "comp_test_Y = comp_test.labels.ravel()\n",
    "\n",
    "comp_recon_X = np.delete(comp_recon.features, comp_prot_index, axis=1)\n",
    "comp_recon_S = comp_recon.protected_attributes.ravel()\n",
    "comp_recon_Y = comp_recon.labels.ravel()"
   ]
  },
  {
   "cell_type": "code",
   "execution_count": 72,
   "id": "f894c050",
   "metadata": {},
   "outputs": [
    {
     "name": "stdout",
     "output_type": "stream",
     "text": [
      "RECONSTRUCTION ACCURACY: 0.6711153479504289\n"
     ]
    }
   ],
   "source": [
    "comp_base_recon_lr = LogisticRegression(random_state=seed, max_iter=500)\n",
    "comp_base_recon_clf = RandomForestClassifier(random_state=seed)\n",
    "comp_base_recon_lr.fit(comp_recon_X, comp_recon_S)\n",
    "comp_base_recon_lr_pred = comp_base_recon_lr.predict(comp_test_X)\n",
    "print(f\"RECONSTRUCTION ACCURACY: {accuracy_score(comp_test_S, comp_base_recon_lr_pred)}\")"
   ]
  },
  {
   "cell_type": "code",
   "execution_count": 73,
   "id": "27e33f0a",
   "metadata": {},
   "outputs": [
    {
     "name": "stdout",
     "output_type": "stream",
     "text": [
      "MIN: 0.6245954692556634\n",
      " Q1: 0.6642394822006472\n",
      "MED: 0.6753246753246753\n",
      " Q3: 0.6882565250283696\n",
      "MAX: 0.7077922077922078\n"
     ]
    }
   ],
   "source": [
    "comp_base_lr_scores = cross_val_score(comp_base_recon_lr, comp_recon_X, comp_recon_S, cv=k)\n",
    "print(f\"MIN: {comp_base_lr_scores.min()}\")\n",
    "print(f\" Q1: {np.percentile(comp_base_lr_scores, 25)}\")\n",
    "print(f\"MED: {np.percentile(comp_base_lr_scores, 50)}\")\n",
    "print(f\" Q3: {np.percentile(comp_base_lr_scores, 75)}\")\n",
    "print(f\"MAX: {comp_base_lr_scores.max()}\")"
   ]
  },
  {
   "cell_type": "code",
   "execution_count": 74,
   "id": "a1ff27d8",
   "metadata": {},
   "outputs": [
    {
     "name": "stdout",
     "output_type": "stream",
     "text": [
      "MIN: 0.6136363636363636\n",
      " Q1: 0.626917580801076\n",
      "MED: 0.64829466649855\n",
      " Q3: 0.6607142857142857\n",
      "MAX: 0.685064935064935\n"
     ]
    }
   ],
   "source": [
    "comp_base_clf_scores = cross_val_score(comp_base_recon_clf, comp_recon_X, comp_recon_S, cv=k)\n",
    "print(f\"MIN: {comp_base_clf_scores.min()}\")\n",
    "print(f\" Q1: {np.percentile(comp_base_clf_scores, 25)}\")\n",
    "print(f\"MED: {np.percentile(comp_base_clf_scores, 50)}\")\n",
    "print(f\" Q3: {np.percentile(comp_base_clf_scores, 75)}\")\n",
    "print(f\"MAX: {comp_base_clf_scores.max()}\")"
   ]
  },
  {
   "cell_type": "markdown",
   "id": "d94b8f66",
   "metadata": {},
   "source": [
    "### Disparate Impact Remover"
   ]
  },
  {
   "cell_type": "code",
   "execution_count": 75,
   "id": "fd0aeba3",
   "metadata": {},
   "outputs": [],
   "source": [
    "comp_dir_recon_X = comp_di_recon.features\n",
    "comp_dir_recon_y = comp_di_recon.labels.ravel()"
   ]
  },
  {
   "cell_type": "code",
   "execution_count": 76,
   "id": "0df27e32",
   "metadata": {},
   "outputs": [
    {
     "name": "stderr",
     "output_type": "stream",
     "text": [
      "/home/nickday/.local/lib/python3.10/site-packages/sklearn/base.py:493: UserWarning: X does not have valid feature names, but LogisticRegression was fitted with feature names\n",
      "  warnings.warn(\n",
      "/home/nickday/.local/lib/python3.10/site-packages/sklearn/base.py:493: UserWarning: X does not have valid feature names, but LogisticRegression was fitted with feature names\n",
      "  warnings.warn(\n",
      "/home/nickday/.local/lib/python3.10/site-packages/sklearn/base.py:493: UserWarning: X does not have valid feature names, but LogisticRegression was fitted with feature names\n",
      "  warnings.warn(\n",
      "/home/nickday/.local/lib/python3.10/site-packages/sklearn/base.py:493: UserWarning: X does not have valid feature names, but LogisticRegression was fitted with feature names\n",
      "  warnings.warn(\n",
      "/home/nickday/.local/lib/python3.10/site-packages/sklearn/base.py:493: UserWarning: X does not have valid feature names, but LogisticRegression was fitted with feature names\n",
      "  warnings.warn(\n",
      "/home/nickday/.local/lib/python3.10/site-packages/sklearn/base.py:493: UserWarning: X does not have valid feature names, but LogisticRegression was fitted with feature names\n",
      "  warnings.warn(\n",
      "/home/nickday/.local/lib/python3.10/site-packages/sklearn/base.py:493: UserWarning: X does not have valid feature names, but LogisticRegression was fitted with feature names\n",
      "  warnings.warn(\n",
      "/home/nickday/.local/lib/python3.10/site-packages/sklearn/base.py:493: UserWarning: X does not have valid feature names, but LogisticRegression was fitted with feature names\n",
      "  warnings.warn(\n",
      "/home/nickday/.local/lib/python3.10/site-packages/sklearn/base.py:493: UserWarning: X does not have valid feature names, but LogisticRegression was fitted with feature names\n",
      "  warnings.warn(\n",
      "/home/nickday/.local/lib/python3.10/site-packages/sklearn/base.py:493: UserWarning: X does not have valid feature names, but LogisticRegression was fitted with feature names\n",
      "  warnings.warn(\n",
      "/home/nickday/.local/lib/python3.10/site-packages/sklearn/base.py:493: UserWarning: X does not have valid feature names, but RandomForestClassifier was fitted with feature names\n",
      "  warnings.warn(\n",
      "/home/nickday/.local/lib/python3.10/site-packages/sklearn/base.py:493: UserWarning: X does not have valid feature names, but RandomForestClassifier was fitted with feature names\n",
      "  warnings.warn(\n",
      "/home/nickday/.local/lib/python3.10/site-packages/sklearn/base.py:493: UserWarning: X does not have valid feature names, but RandomForestClassifier was fitted with feature names\n",
      "  warnings.warn(\n",
      "/home/nickday/.local/lib/python3.10/site-packages/sklearn/base.py:493: UserWarning: X does not have valid feature names, but RandomForestClassifier was fitted with feature names\n",
      "  warnings.warn(\n",
      "/home/nickday/.local/lib/python3.10/site-packages/sklearn/base.py:493: UserWarning: X does not have valid feature names, but RandomForestClassifier was fitted with feature names\n",
      "  warnings.warn(\n",
      "/home/nickday/.local/lib/python3.10/site-packages/sklearn/base.py:493: UserWarning: X does not have valid feature names, but RandomForestClassifier was fitted with feature names\n",
      "  warnings.warn(\n",
      "/home/nickday/.local/lib/python3.10/site-packages/sklearn/base.py:493: UserWarning: X does not have valid feature names, but RandomForestClassifier was fitted with feature names\n",
      "  warnings.warn(\n",
      "/home/nickday/.local/lib/python3.10/site-packages/sklearn/base.py:493: UserWarning: X does not have valid feature names, but RandomForestClassifier was fitted with feature names\n",
      "  warnings.warn(\n",
      "/home/nickday/.local/lib/python3.10/site-packages/sklearn/base.py:493: UserWarning: X does not have valid feature names, but RandomForestClassifier was fitted with feature names\n",
      "  warnings.warn(\n",
      "/home/nickday/.local/lib/python3.10/site-packages/sklearn/base.py:493: UserWarning: X does not have valid feature names, but RandomForestClassifier was fitted with feature names\n",
      "  warnings.warn(\n"
     ]
    }
   ],
   "source": [
    "comp_di_recon_lr = LogisticRegression(random_state=seed)\n",
    "comp_di_recon_clf = RandomForestClassifier(random_state=seed)\n",
    "comp_di_lr_scores = fairness_cv(comp_di_recon_lr, comp_di, comp_dir_recon_X, comp_dir_recon_y, comp_di_recon.feature_names, comp_protected, comp_di_recon.label_names[0], comp_prot_index, cv=k)\n",
    "comp_di_clf_scores = fairness_cv(comp_di_recon_clf, comp_di, comp_dir_recon_X, comp_dir_recon_y, comp_di_recon.feature_names, comp_protected, comp_di_recon.label_names[0], comp_prot_index, cv=k)"
   ]
  },
  {
   "cell_type": "code",
   "execution_count": 77,
   "id": "e3f30f2c",
   "metadata": {},
   "outputs": [
    {
     "name": "stdout",
     "output_type": "stream",
     "text": [
      "MIN: 0.5974025974025974\n",
      " Q1: 0.6501623376623377\n",
      "MED: 0.6623376623376623\n",
      " Q3: 0.6737012987012987\n",
      "MAX: 0.6948051948051948\n"
     ]
    }
   ],
   "source": [
    "print(f\"MIN: {comp_di_lr_scores.min()}\")\n",
    "print(f\" Q1: {np.percentile(comp_di_lr_scores, 25)}\")\n",
    "print(f\"MED: {np.percentile(comp_di_lr_scores, 50)}\")\n",
    "print(f\" Q3: {np.percentile(comp_di_lr_scores, 75)}\")\n",
    "print(f\"MAX: {comp_di_lr_scores.max()}\")"
   ]
  },
  {
   "cell_type": "code",
   "execution_count": 78,
   "id": "75f15d00",
   "metadata": {},
   "outputs": [
    {
     "name": "stdout",
     "output_type": "stream",
     "text": [
      "MIN: 0.6136363636363636\n",
      " Q1: 0.6347402597402597\n",
      "MED: 0.6493506493506493\n",
      " Q3: 0.6623376623376623\n",
      "MAX: 0.6785714285714286\n"
     ]
    }
   ],
   "source": [
    "print(f\"MIN: {comp_di_clf_scores.min()}\")\n",
    "print(f\" Q1: {np.percentile(comp_di_clf_scores, 25)}\")\n",
    "print(f\"MED: {np.percentile(comp_di_clf_scores, 50)}\")\n",
    "print(f\" Q3: {np.percentile(comp_di_clf_scores, 75)}\")\n",
    "print(f\"MAX: {comp_di_clf_scores.max()}\")"
   ]
  },
  {
   "cell_type": "markdown",
   "id": "9e30f6c1",
   "metadata": {},
   "source": [
    "### LFR"
   ]
  },
  {
   "cell_type": "code",
   "execution_count": 79,
   "id": "7bfe82d4",
   "metadata": {},
   "outputs": [],
   "source": [
    "comp_lfr_recon_X = comp_lfr_recon.features\n",
    "comp_lfr_recon_y = comp_lfr_recon.labels.ravel()"
   ]
  },
  {
   "cell_type": "code",
   "execution_count": 80,
   "id": "7b325104",
   "metadata": {},
   "outputs": [
    {
     "name": "stderr",
     "output_type": "stream",
     "text": [
      "/home/nickday/.local/lib/python3.10/site-packages/sklearn/base.py:493: UserWarning: X does not have valid feature names, but LogisticRegression was fitted with feature names\n",
      "  warnings.warn(\n",
      "/home/nickday/.local/lib/python3.10/site-packages/sklearn/base.py:493: UserWarning: X does not have valid feature names, but LogisticRegression was fitted with feature names\n",
      "  warnings.warn(\n",
      "/home/nickday/.local/lib/python3.10/site-packages/sklearn/base.py:493: UserWarning: X does not have valid feature names, but LogisticRegression was fitted with feature names\n",
      "  warnings.warn(\n",
      "/home/nickday/.local/lib/python3.10/site-packages/sklearn/base.py:493: UserWarning: X does not have valid feature names, but LogisticRegression was fitted with feature names\n",
      "  warnings.warn(\n",
      "/home/nickday/.local/lib/python3.10/site-packages/sklearn/base.py:493: UserWarning: X does not have valid feature names, but LogisticRegression was fitted with feature names\n",
      "  warnings.warn(\n",
      "/home/nickday/.local/lib/python3.10/site-packages/sklearn/base.py:493: UserWarning: X does not have valid feature names, but LogisticRegression was fitted with feature names\n",
      "  warnings.warn(\n",
      "/home/nickday/.local/lib/python3.10/site-packages/sklearn/base.py:493: UserWarning: X does not have valid feature names, but LogisticRegression was fitted with feature names\n",
      "  warnings.warn(\n",
      "/home/nickday/.local/lib/python3.10/site-packages/sklearn/base.py:493: UserWarning: X does not have valid feature names, but LogisticRegression was fitted with feature names\n",
      "  warnings.warn(\n",
      "/home/nickday/.local/lib/python3.10/site-packages/sklearn/base.py:493: UserWarning: X does not have valid feature names, but LogisticRegression was fitted with feature names\n",
      "  warnings.warn(\n",
      "/home/nickday/.local/lib/python3.10/site-packages/sklearn/base.py:493: UserWarning: X does not have valid feature names, but LogisticRegression was fitted with feature names\n",
      "  warnings.warn(\n",
      "/home/nickday/.local/lib/python3.10/site-packages/sklearn/base.py:493: UserWarning: X does not have valid feature names, but RandomForestClassifier was fitted with feature names\n",
      "  warnings.warn(\n",
      "/home/nickday/.local/lib/python3.10/site-packages/sklearn/base.py:493: UserWarning: X does not have valid feature names, but RandomForestClassifier was fitted with feature names\n",
      "  warnings.warn(\n",
      "/home/nickday/.local/lib/python3.10/site-packages/sklearn/base.py:493: UserWarning: X does not have valid feature names, but RandomForestClassifier was fitted with feature names\n",
      "  warnings.warn(\n",
      "/home/nickday/.local/lib/python3.10/site-packages/sklearn/base.py:493: UserWarning: X does not have valid feature names, but RandomForestClassifier was fitted with feature names\n",
      "  warnings.warn(\n",
      "/home/nickday/.local/lib/python3.10/site-packages/sklearn/base.py:493: UserWarning: X does not have valid feature names, but RandomForestClassifier was fitted with feature names\n",
      "  warnings.warn(\n",
      "/home/nickday/.local/lib/python3.10/site-packages/sklearn/base.py:493: UserWarning: X does not have valid feature names, but RandomForestClassifier was fitted with feature names\n",
      "  warnings.warn(\n",
      "/home/nickday/.local/lib/python3.10/site-packages/sklearn/base.py:493: UserWarning: X does not have valid feature names, but RandomForestClassifier was fitted with feature names\n",
      "  warnings.warn(\n",
      "/home/nickday/.local/lib/python3.10/site-packages/sklearn/base.py:493: UserWarning: X does not have valid feature names, but RandomForestClassifier was fitted with feature names\n",
      "  warnings.warn(\n",
      "/home/nickday/.local/lib/python3.10/site-packages/sklearn/base.py:493: UserWarning: X does not have valid feature names, but RandomForestClassifier was fitted with feature names\n",
      "  warnings.warn(\n",
      "/home/nickday/.local/lib/python3.10/site-packages/sklearn/base.py:493: UserWarning: X does not have valid feature names, but RandomForestClassifier was fitted with feature names\n",
      "  warnings.warn(\n"
     ]
    }
   ],
   "source": [
    "comp_lfr_recon_lr = LogisticRegression(random_state=seed)\n",
    "comp_lfr_recon_clf = RandomForestClassifier(random_state=seed)\n",
    "comp_lfr_lr_scores = fairness_cv(comp_lfr_recon_lr, comp_lfr, comp_lfr_recon_X, comp_lfr_recon_y, comp_lfr_recon.feature_names, comp_protected, comp_lfr_recon.label_names[0], comp_prot_index, cv=k)\n",
    "comp_lfr_clf_scores = fairness_cv(comp_lfr_recon_clf, comp_lfr, comp_lfr_recon_X, comp_lfr_recon_y, comp_lfr_recon.feature_names, comp_protected, comp_lfr_recon.label_names[0], comp_prot_index, cv=k)"
   ]
  },
  {
   "cell_type": "code",
   "execution_count": 81,
   "id": "7d75fd28",
   "metadata": {},
   "outputs": [
    {
     "name": "stdout",
     "output_type": "stream",
     "text": [
      "MIN: 0.6233766233766234\n",
      " Q1: 0.637987012987013\n",
      "MED: 0.6542207792207793\n",
      " Q3: 0.6696428571428571\n",
      "MAX: 0.7142857142857143\n"
     ]
    }
   ],
   "source": [
    "print(f\"MIN: {comp_lfr_lr_scores.min()}\")\n",
    "print(f\" Q1: {np.percentile(comp_lfr_lr_scores, 25)}\")\n",
    "print(f\"MED: {np.percentile(comp_lfr_lr_scores, 50)}\")\n",
    "print(f\" Q3: {np.percentile(comp_lfr_lr_scores, 75)}\")\n",
    "print(f\"MAX: {comp_lfr_lr_scores.max()}\")"
   ]
  },
  {
   "cell_type": "code",
   "execution_count": 82,
   "id": "a5640809",
   "metadata": {},
   "outputs": [
    {
     "name": "stdout",
     "output_type": "stream",
     "text": [
      "MIN: 0.6201298701298701\n",
      " Q1: 0.6363636363636364\n",
      "MED: 0.6623376623376623\n",
      " Q3: 0.672077922077922\n",
      "MAX: 0.7142857142857143\n"
     ]
    }
   ],
   "source": [
    "print(f\"MIN: {comp_lfr_clf_scores.min()}\")\n",
    "print(f\" Q1: {np.percentile(comp_lfr_clf_scores, 25)}\")\n",
    "print(f\"MED: {np.percentile(comp_lfr_clf_scores, 50)}\")\n",
    "print(f\" Q3: {np.percentile(comp_lfr_clf_scores, 75)}\")\n",
    "print(f\"MAX: {comp_lfr_clf_scores.max()}\")"
   ]
  },
  {
   "cell_type": "markdown",
   "id": "ee56d0c3",
   "metadata": {},
   "source": [
    "### Reweighing"
   ]
  },
  {
   "cell_type": "code",
   "execution_count": 83,
   "id": "1eedceb8",
   "metadata": {},
   "outputs": [],
   "source": [
    "comp_rw_recon_X = comp_rw_recon.features\n",
    "comp_rw_recon_y = comp_rw_recon.labels.ravel()"
   ]
  },
  {
   "cell_type": "code",
   "execution_count": 84,
   "id": "f06e8211",
   "metadata": {},
   "outputs": [
    {
     "name": "stderr",
     "output_type": "stream",
     "text": [
      "/home/nickday/.local/lib/python3.10/site-packages/sklearn/base.py:493: UserWarning: X does not have valid feature names, but LogisticRegression was fitted with feature names\n",
      "  warnings.warn(\n",
      "/home/nickday/.local/lib/python3.10/site-packages/sklearn/base.py:493: UserWarning: X does not have valid feature names, but LogisticRegression was fitted with feature names\n",
      "  warnings.warn(\n",
      "/home/nickday/.local/lib/python3.10/site-packages/sklearn/base.py:493: UserWarning: X does not have valid feature names, but LogisticRegression was fitted with feature names\n",
      "  warnings.warn(\n",
      "/home/nickday/.local/lib/python3.10/site-packages/sklearn/base.py:493: UserWarning: X does not have valid feature names, but LogisticRegression was fitted with feature names\n",
      "  warnings.warn(\n",
      "/home/nickday/.local/lib/python3.10/site-packages/sklearn/base.py:493: UserWarning: X does not have valid feature names, but LogisticRegression was fitted with feature names\n",
      "  warnings.warn(\n",
      "/home/nickday/.local/lib/python3.10/site-packages/sklearn/base.py:493: UserWarning: X does not have valid feature names, but LogisticRegression was fitted with feature names\n",
      "  warnings.warn(\n",
      "/home/nickday/.local/lib/python3.10/site-packages/sklearn/base.py:493: UserWarning: X does not have valid feature names, but LogisticRegression was fitted with feature names\n",
      "  warnings.warn(\n",
      "/home/nickday/.local/lib/python3.10/site-packages/sklearn/base.py:493: UserWarning: X does not have valid feature names, but LogisticRegression was fitted with feature names\n",
      "  warnings.warn(\n",
      "/home/nickday/.local/lib/python3.10/site-packages/sklearn/base.py:493: UserWarning: X does not have valid feature names, but LogisticRegression was fitted with feature names\n",
      "  warnings.warn(\n",
      "/home/nickday/.local/lib/python3.10/site-packages/sklearn/base.py:493: UserWarning: X does not have valid feature names, but LogisticRegression was fitted with feature names\n",
      "  warnings.warn(\n",
      "/home/nickday/.local/lib/python3.10/site-packages/sklearn/base.py:493: UserWarning: X does not have valid feature names, but RandomForestClassifier was fitted with feature names\n",
      "  warnings.warn(\n",
      "/home/nickday/.local/lib/python3.10/site-packages/sklearn/base.py:493: UserWarning: X does not have valid feature names, but RandomForestClassifier was fitted with feature names\n",
      "  warnings.warn(\n",
      "/home/nickday/.local/lib/python3.10/site-packages/sklearn/base.py:493: UserWarning: X does not have valid feature names, but RandomForestClassifier was fitted with feature names\n",
      "  warnings.warn(\n",
      "/home/nickday/.local/lib/python3.10/site-packages/sklearn/base.py:493: UserWarning: X does not have valid feature names, but RandomForestClassifier was fitted with feature names\n",
      "  warnings.warn(\n",
      "/home/nickday/.local/lib/python3.10/site-packages/sklearn/base.py:493: UserWarning: X does not have valid feature names, but RandomForestClassifier was fitted with feature names\n",
      "  warnings.warn(\n",
      "/home/nickday/.local/lib/python3.10/site-packages/sklearn/base.py:493: UserWarning: X does not have valid feature names, but RandomForestClassifier was fitted with feature names\n",
      "  warnings.warn(\n",
      "/home/nickday/.local/lib/python3.10/site-packages/sklearn/base.py:493: UserWarning: X does not have valid feature names, but RandomForestClassifier was fitted with feature names\n",
      "  warnings.warn(\n",
      "/home/nickday/.local/lib/python3.10/site-packages/sklearn/base.py:493: UserWarning: X does not have valid feature names, but RandomForestClassifier was fitted with feature names\n",
      "  warnings.warn(\n",
      "/home/nickday/.local/lib/python3.10/site-packages/sklearn/base.py:493: UserWarning: X does not have valid feature names, but RandomForestClassifier was fitted with feature names\n",
      "  warnings.warn(\n",
      "/home/nickday/.local/lib/python3.10/site-packages/sklearn/base.py:493: UserWarning: X does not have valid feature names, but RandomForestClassifier was fitted with feature names\n",
      "  warnings.warn(\n"
     ]
    }
   ],
   "source": [
    "comp_rw_recon_lr = LogisticRegression(random_state=seed)\n",
    "comp_rw_recon_clf = RandomForestClassifier(random_state=seed)\n",
    "comp_rw_lr_scores = fairness_cv(comp_rw_recon_lr, comp_rw, comp_rw_recon_X, comp_rw_recon_y, comp_rw_recon.feature_names, comp_protected, comp_rw_recon.label_names[0], comp_prot_index, cv=k)\n",
    "comp_rw_clf_scores = fairness_cv(comp_rw_recon_clf, comp_rw, comp_rw_recon_X, comp_rw_recon_y, comp_rw_recon.feature_names, comp_protected, comp_rw_recon.label_names[0], comp_prot_index, cv=k)"
   ]
  },
  {
   "cell_type": "code",
   "execution_count": 85,
   "id": "87d8ef50",
   "metadata": {},
   "outputs": [
    {
     "name": "stdout",
     "output_type": "stream",
     "text": [
      "MIN: 0.6428571428571429\n",
      " Q1: 0.6599025974025974\n",
      "MED: 0.6753246753246753\n",
      " Q3: 0.689935064935065\n",
      "MAX: 0.7305194805194806\n"
     ]
    }
   ],
   "source": [
    "print(f\"MIN: {comp_rw_lr_scores.min()}\")\n",
    "print(f\" Q1: {np.percentile(comp_rw_lr_scores, 25)}\")\n",
    "print(f\"MED: {np.percentile(comp_rw_lr_scores, 50)}\")\n",
    "print(f\" Q3: {np.percentile(comp_rw_lr_scores, 75)}\")\n",
    "print(f\"MAX: {comp_rw_lr_scores.max()}\")"
   ]
  },
  {
   "cell_type": "code",
   "execution_count": 86,
   "id": "807a3951",
   "metadata": {},
   "outputs": [
    {
     "name": "stdout",
     "output_type": "stream",
     "text": [
      "MIN: 0.6233766233766234\n",
      " Q1: 0.6363636363636364\n",
      "MED: 0.6525974025974026\n",
      " Q3: 0.6672077922077921\n",
      "MAX: 0.6915584415584416\n"
     ]
    }
   ],
   "source": [
    "print(f\"MIN: {comp_rw_clf_scores.min()}\")\n",
    "print(f\" Q1: {np.percentile(comp_rw_clf_scores, 25)}\")\n",
    "print(f\"MED: {np.percentile(comp_rw_clf_scores, 50)}\")\n",
    "print(f\" Q3: {np.percentile(comp_rw_clf_scores, 75)}\")\n",
    "print(f\"MAX: {comp_rw_clf_scores.max()}\")"
   ]
  }
 ],
 "metadata": {
  "kernelspec": {
   "display_name": "Python 3",
   "language": "python",
   "name": "python3"
  },
  "language_info": {
   "codemirror_mode": {
    "name": "ipython",
    "version": 3
   },
   "file_extension": ".py",
   "mimetype": "text/x-python",
   "name": "python",
   "nbconvert_exporter": "python",
   "pygments_lexer": "ipython3",
   "version": "3.10.17"
  }
 },
 "nbformat": 4,
 "nbformat_minor": 5
}
