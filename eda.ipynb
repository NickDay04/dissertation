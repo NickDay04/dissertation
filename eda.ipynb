{
 "cells": [
  {
   "cell_type": "code",
   "execution_count": 1,
   "metadata": {},
   "outputs": [
    {
     "name": "stderr",
     "output_type": "stream",
     "text": [
      "WARNING:root:No module named 'tensorflow': AdversarialDebiasing will be unavailable. To install, run:\n",
      "pip install 'aif360[AdversarialDebiasing]'\n",
      "WARNING:root:No module named 'tensorflow': AdversarialDebiasing will be unavailable. To install, run:\n",
      "pip install 'aif360[AdversarialDebiasing]'\n",
      "WARNING:root:No module named 'fairlearn': ExponentiatedGradientReduction will be unavailable. To install, run:\n",
      "pip install 'aif360[Reductions]'\n",
      "WARNING:root:No module named 'fairlearn': GridSearchReduction will be unavailable. To install, run:\n",
      "pip install 'aif360[Reductions]'\n",
      "WARNING:root:No module named 'inFairness': SenSeI and SenSR will be unavailable. To install, run:\n",
      "pip install 'aif360[inFairness]'\n",
      "WARNING:root:No module named 'fairlearn': GridSearchReduction will be unavailable. To install, run:\n",
      "pip install 'aif360[Reductions]'\n"
     ]
    }
   ],
   "source": [
    "from aif360.datasets import AdultDataset, CompasDataset\n",
    "from aif360.metrics import BinaryLabelDatasetMetric\n",
    "\n",
    "import matplotlib.pyplot as plt\n",
    "import seaborn as sns\n",
    "import numpy as np"
   ]
  },
  {
   "cell_type": "code",
   "execution_count": 2,
   "metadata": {},
   "outputs": [
    {
     "name": "stderr",
     "output_type": "stream",
     "text": [
      "WARNING:root:Missing Data: 5 rows removed from CompasDataset.\n"
     ]
    }
   ],
   "source": [
    "comp_protected = 'race'\n",
    "ad_protected = 'sex'\n",
    "\n",
    "ad = AdultDataset(protected_attribute_names=[ad_protected],\n",
    "    privileged_classes=[['Male']], categorical_features=[],\n",
    "    features_to_keep=['age', 'education-num', 'capital-gain', 'capital-loss', 'hours-per-week'])\n",
    "comp = CompasDataset(protected_attribute_names=[comp_protected],\n",
    "                     privileged_classes=[[\"Caucasian\"]],\n",
    "                     features_to_keep=[\"age_cat\", \"juv_fel_count\", \"juv_misd_count\", \"juv_other_count\", \"priors_count\", \"c_charge_degree\", \"c_charge_desc\"])\n"
   ]
  },
  {
   "cell_type": "code",
   "execution_count": 3,
   "metadata": {},
   "outputs": [
    {
     "name": "stdout",
     "output_type": "stream",
     "text": [
      "(48842, 7)\n",
      "(6167, 10)\n"
     ]
    }
   ],
   "source": [
    "ad_df = ad.convert_to_dataframe()[0]\n",
    "comp_df = comp.convert_to_dataframe()[0]\n",
    "comp_df = comp_df.filter(items=[\"race\", \"juv_fel_count\", \"juv_misd_count\", \"juv_other_count\", \"priors_count\", \"age_cat=Greater than 45\", \"age_cat=Less than 25\", \"two_year_recid\", \"c_charge_degree=F\", \"c_charge_degree=M\"], axis=\"columns\")\n",
    "print(ad_df.shape)\n",
    "print(comp_df.shape)"
   ]
  },
  {
   "cell_type": "code",
   "execution_count": 9,
   "metadata": {},
   "outputs": [
    {
     "data": {
      "text/html": [
       "<div>\n",
       "<style scoped>\n",
       "    .dataframe tbody tr th:only-of-type {\n",
       "        vertical-align: middle;\n",
       "    }\n",
       "\n",
       "    .dataframe tbody tr th {\n",
       "        vertical-align: top;\n",
       "    }\n",
       "\n",
       "    .dataframe thead th {\n",
       "        text-align: right;\n",
       "    }\n",
       "</style>\n",
       "<table border=\"1\" class=\"dataframe\">\n",
       "  <thead>\n",
       "    <tr style=\"text-align: right;\">\n",
       "      <th></th>\n",
       "      <th>age</th>\n",
       "      <th>education-num</th>\n",
       "      <th>sex</th>\n",
       "      <th>capital-gain</th>\n",
       "      <th>capital-loss</th>\n",
       "      <th>hours-per-week</th>\n",
       "      <th>income-per-year</th>\n",
       "    </tr>\n",
       "  </thead>\n",
       "  <tbody>\n",
       "    <tr>\n",
       "      <th>count</th>\n",
       "      <td>48842.000000</td>\n",
       "      <td>48842.000000</td>\n",
       "      <td>48842.000000</td>\n",
       "      <td>48842.000000</td>\n",
       "      <td>48842.000000</td>\n",
       "      <td>48842.000000</td>\n",
       "      <td>48842.000000</td>\n",
       "    </tr>\n",
       "    <tr>\n",
       "      <th>mean</th>\n",
       "      <td>38.643585</td>\n",
       "      <td>10.078089</td>\n",
       "      <td>0.668482</td>\n",
       "      <td>1079.067626</td>\n",
       "      <td>87.502314</td>\n",
       "      <td>40.422382</td>\n",
       "      <td>0.239282</td>\n",
       "    </tr>\n",
       "    <tr>\n",
       "      <th>std</th>\n",
       "      <td>13.710510</td>\n",
       "      <td>2.570973</td>\n",
       "      <td>0.470764</td>\n",
       "      <td>7452.019058</td>\n",
       "      <td>403.004552</td>\n",
       "      <td>12.391444</td>\n",
       "      <td>0.426649</td>\n",
       "    </tr>\n",
       "    <tr>\n",
       "      <th>min</th>\n",
       "      <td>17.000000</td>\n",
       "      <td>1.000000</td>\n",
       "      <td>0.000000</td>\n",
       "      <td>0.000000</td>\n",
       "      <td>0.000000</td>\n",
       "      <td>1.000000</td>\n",
       "      <td>0.000000</td>\n",
       "    </tr>\n",
       "    <tr>\n",
       "      <th>25%</th>\n",
       "      <td>28.000000</td>\n",
       "      <td>9.000000</td>\n",
       "      <td>0.000000</td>\n",
       "      <td>0.000000</td>\n",
       "      <td>0.000000</td>\n",
       "      <td>40.000000</td>\n",
       "      <td>0.000000</td>\n",
       "    </tr>\n",
       "    <tr>\n",
       "      <th>50%</th>\n",
       "      <td>37.000000</td>\n",
       "      <td>10.000000</td>\n",
       "      <td>1.000000</td>\n",
       "      <td>0.000000</td>\n",
       "      <td>0.000000</td>\n",
       "      <td>40.000000</td>\n",
       "      <td>0.000000</td>\n",
       "    </tr>\n",
       "    <tr>\n",
       "      <th>75%</th>\n",
       "      <td>48.000000</td>\n",
       "      <td>12.000000</td>\n",
       "      <td>1.000000</td>\n",
       "      <td>0.000000</td>\n",
       "      <td>0.000000</td>\n",
       "      <td>45.000000</td>\n",
       "      <td>0.000000</td>\n",
       "    </tr>\n",
       "    <tr>\n",
       "      <th>max</th>\n",
       "      <td>90.000000</td>\n",
       "      <td>16.000000</td>\n",
       "      <td>1.000000</td>\n",
       "      <td>99999.000000</td>\n",
       "      <td>4356.000000</td>\n",
       "      <td>99.000000</td>\n",
       "      <td>1.000000</td>\n",
       "    </tr>\n",
       "  </tbody>\n",
       "</table>\n",
       "</div>"
      ],
      "text/plain": [
       "                age  education-num           sex  capital-gain  capital-loss  \\\n",
       "count  48842.000000   48842.000000  48842.000000  48842.000000  48842.000000   \n",
       "mean      38.643585      10.078089      0.668482   1079.067626     87.502314   \n",
       "std       13.710510       2.570973      0.470764   7452.019058    403.004552   \n",
       "min       17.000000       1.000000      0.000000      0.000000      0.000000   \n",
       "25%       28.000000       9.000000      0.000000      0.000000      0.000000   \n",
       "50%       37.000000      10.000000      1.000000      0.000000      0.000000   \n",
       "75%       48.000000      12.000000      1.000000      0.000000      0.000000   \n",
       "max       90.000000      16.000000      1.000000  99999.000000   4356.000000   \n",
       "\n",
       "       hours-per-week  income-per-year  \n",
       "count    48842.000000     48842.000000  \n",
       "mean        40.422382         0.239282  \n",
       "std         12.391444         0.426649  \n",
       "min          1.000000         0.000000  \n",
       "25%         40.000000         0.000000  \n",
       "50%         40.000000         0.000000  \n",
       "75%         45.000000         0.000000  \n",
       "max         99.000000         1.000000  "
      ]
     },
     "execution_count": 9,
     "metadata": {},
     "output_type": "execute_result"
    }
   ],
   "source": [
    "ad_df.describe()"
   ]
  },
  {
   "cell_type": "code",
   "execution_count": 10,
   "metadata": {},
   "outputs": [
    {
     "data": {
      "text/html": [
       "<div>\n",
       "<style scoped>\n",
       "    .dataframe tbody tr th:only-of-type {\n",
       "        vertical-align: middle;\n",
       "    }\n",
       "\n",
       "    .dataframe tbody tr th {\n",
       "        vertical-align: top;\n",
       "    }\n",
       "\n",
       "    .dataframe thead th {\n",
       "        text-align: right;\n",
       "    }\n",
       "</style>\n",
       "<table border=\"1\" class=\"dataframe\">\n",
       "  <thead>\n",
       "    <tr style=\"text-align: right;\">\n",
       "      <th></th>\n",
       "      <th>race</th>\n",
       "      <th>juv_fel_count</th>\n",
       "      <th>juv_misd_count</th>\n",
       "      <th>juv_other_count</th>\n",
       "      <th>priors_count</th>\n",
       "      <th>age_cat=Greater than 45</th>\n",
       "      <th>age_cat=Less than 25</th>\n",
       "      <th>two_year_recid</th>\n",
       "      <th>c_charge_degree=F</th>\n",
       "      <th>c_charge_degree=M</th>\n",
       "    </tr>\n",
       "  </thead>\n",
       "  <tbody>\n",
       "    <tr>\n",
       "      <th>count</th>\n",
       "      <td>6167.000000</td>\n",
       "      <td>6167.000000</td>\n",
       "      <td>6167.000000</td>\n",
       "      <td>6167.000000</td>\n",
       "      <td>6167.000000</td>\n",
       "      <td>6167.000000</td>\n",
       "      <td>6167.000000</td>\n",
       "      <td>6167.000000</td>\n",
       "      <td>6167.000000</td>\n",
       "      <td>6167.000000</td>\n",
       "    </tr>\n",
       "    <tr>\n",
       "      <th>mean</th>\n",
       "      <td>0.340522</td>\n",
       "      <td>0.059186</td>\n",
       "      <td>0.091292</td>\n",
       "      <td>0.110751</td>\n",
       "      <td>3.247446</td>\n",
       "      <td>0.209502</td>\n",
       "      <td>0.218421</td>\n",
       "      <td>0.455489</td>\n",
       "      <td>0.643100</td>\n",
       "      <td>0.356900</td>\n",
       "    </tr>\n",
       "    <tr>\n",
       "      <th>std</th>\n",
       "      <td>0.473923</td>\n",
       "      <td>0.463630</td>\n",
       "      <td>0.498067</td>\n",
       "      <td>0.470911</td>\n",
       "      <td>4.745320</td>\n",
       "      <td>0.406986</td>\n",
       "      <td>0.413208</td>\n",
       "      <td>0.498055</td>\n",
       "      <td>0.479124</td>\n",
       "      <td>0.479124</td>\n",
       "    </tr>\n",
       "    <tr>\n",
       "      <th>min</th>\n",
       "      <td>0.000000</td>\n",
       "      <td>0.000000</td>\n",
       "      <td>0.000000</td>\n",
       "      <td>0.000000</td>\n",
       "      <td>0.000000</td>\n",
       "      <td>0.000000</td>\n",
       "      <td>0.000000</td>\n",
       "      <td>0.000000</td>\n",
       "      <td>0.000000</td>\n",
       "      <td>0.000000</td>\n",
       "    </tr>\n",
       "    <tr>\n",
       "      <th>25%</th>\n",
       "      <td>0.000000</td>\n",
       "      <td>0.000000</td>\n",
       "      <td>0.000000</td>\n",
       "      <td>0.000000</td>\n",
       "      <td>0.000000</td>\n",
       "      <td>0.000000</td>\n",
       "      <td>0.000000</td>\n",
       "      <td>0.000000</td>\n",
       "      <td>0.000000</td>\n",
       "      <td>0.000000</td>\n",
       "    </tr>\n",
       "    <tr>\n",
       "      <th>50%</th>\n",
       "      <td>0.000000</td>\n",
       "      <td>0.000000</td>\n",
       "      <td>0.000000</td>\n",
       "      <td>0.000000</td>\n",
       "      <td>1.000000</td>\n",
       "      <td>0.000000</td>\n",
       "      <td>0.000000</td>\n",
       "      <td>0.000000</td>\n",
       "      <td>1.000000</td>\n",
       "      <td>0.000000</td>\n",
       "    </tr>\n",
       "    <tr>\n",
       "      <th>75%</th>\n",
       "      <td>1.000000</td>\n",
       "      <td>0.000000</td>\n",
       "      <td>0.000000</td>\n",
       "      <td>0.000000</td>\n",
       "      <td>4.000000</td>\n",
       "      <td>0.000000</td>\n",
       "      <td>0.000000</td>\n",
       "      <td>1.000000</td>\n",
       "      <td>1.000000</td>\n",
       "      <td>1.000000</td>\n",
       "    </tr>\n",
       "    <tr>\n",
       "      <th>max</th>\n",
       "      <td>1.000000</td>\n",
       "      <td>20.000000</td>\n",
       "      <td>13.000000</td>\n",
       "      <td>9.000000</td>\n",
       "      <td>38.000000</td>\n",
       "      <td>1.000000</td>\n",
       "      <td>1.000000</td>\n",
       "      <td>1.000000</td>\n",
       "      <td>1.000000</td>\n",
       "      <td>1.000000</td>\n",
       "    </tr>\n",
       "  </tbody>\n",
       "</table>\n",
       "</div>"
      ],
      "text/plain": [
       "              race  juv_fel_count  juv_misd_count  juv_other_count  \\\n",
       "count  6167.000000    6167.000000     6167.000000      6167.000000   \n",
       "mean      0.340522       0.059186        0.091292         0.110751   \n",
       "std       0.473923       0.463630        0.498067         0.470911   \n",
       "min       0.000000       0.000000        0.000000         0.000000   \n",
       "25%       0.000000       0.000000        0.000000         0.000000   \n",
       "50%       0.000000       0.000000        0.000000         0.000000   \n",
       "75%       1.000000       0.000000        0.000000         0.000000   \n",
       "max       1.000000      20.000000       13.000000         9.000000   \n",
       "\n",
       "       priors_count  age_cat=Greater than 45  age_cat=Less than 25  \\\n",
       "count   6167.000000              6167.000000           6167.000000   \n",
       "mean       3.247446                 0.209502              0.218421   \n",
       "std        4.745320                 0.406986              0.413208   \n",
       "min        0.000000                 0.000000              0.000000   \n",
       "25%        0.000000                 0.000000              0.000000   \n",
       "50%        1.000000                 0.000000              0.000000   \n",
       "75%        4.000000                 0.000000              0.000000   \n",
       "max       38.000000                 1.000000              1.000000   \n",
       "\n",
       "       two_year_recid  c_charge_degree=F  c_charge_degree=M  \n",
       "count     6167.000000        6167.000000        6167.000000  \n",
       "mean         0.455489           0.643100           0.356900  \n",
       "std          0.498055           0.479124           0.479124  \n",
       "min          0.000000           0.000000           0.000000  \n",
       "25%          0.000000           0.000000           0.000000  \n",
       "50%          0.000000           1.000000           0.000000  \n",
       "75%          1.000000           1.000000           1.000000  \n",
       "max          1.000000           1.000000           1.000000  "
      ]
     },
     "execution_count": 10,
     "metadata": {},
     "output_type": "execute_result"
    }
   ],
   "source": [
    "comp_df.describe()"
   ]
  },
  {
   "cell_type": "code",
   "execution_count": 4,
   "metadata": {},
   "outputs": [
    {
     "name": "stdout",
     "output_type": "stream",
     "text": [
      "sex\n",
      "1.0    32650\n",
      "0.0    16192\n",
      "Name: count, dtype: int64\n",
      "income-per-year\n",
      "0.0    37155\n",
      "1.0    11687\n",
      "Name: count, dtype: int64\n"
     ]
    }
   ],
   "source": [
    "print(ad_df[ad_protected].value_counts())\n",
    "print(ad_df[\"income-per-year\"].value_counts())"
   ]
  },
  {
   "cell_type": "code",
   "execution_count": 12,
   "metadata": {},
   "outputs": [
    {
     "name": "stdout",
     "output_type": "stream",
     "text": [
      "race\n",
      "0.0    4067\n",
      "1.0    2100\n",
      "Name: count, dtype: int64\n",
      "two_year_recid\n",
      "0.0    3358\n",
      "1.0    2809\n",
      "Name: count, dtype: int64\n"
     ]
    }
   ],
   "source": [
    "print(comp_df[comp_protected].value_counts())\n",
    "print(comp_df[\"two_year_recid\"].value_counts())"
   ]
  },
  {
   "cell_type": "code",
   "execution_count": 5,
   "metadata": {},
   "outputs": [
    {
     "name": "stdout",
     "output_type": "stream",
     "text": [
      "income-per-year\n",
      "0.0    22732\n",
      "1.0     9918\n",
      "Name: count, dtype: int64\n",
      "income-per-year\n",
      "0.0    14423\n",
      "1.0     1769\n",
      "Name: count, dtype: int64\n"
     ]
    }
   ],
   "source": [
    "ad_priv_labeldist = ad_df[ad_df[ad_protected] == 1][\"income-per-year\"].value_counts()\n",
    "ad_unpriv_labeldist = ad_df[ad_df[ad_protected] == 0][\"income-per-year\"].value_counts()\n",
    "\n",
    "print(ad_priv_labeldist)\n",
    "print(ad_unpriv_labeldist)\n",
    "\n",
    "ad_priv_nooflabels = np.array([ad_priv_labeldist[1], ad_priv_labeldist[0]])\n",
    "ad_unpriv_nooflabels = np.array([ad_unpriv_labeldist[1], ad_unpriv_labeldist[0]])\n",
    "labels = [\"Positive Outcome\", \"Negative Outcome\"]\n",
    "\n",
    "comp_priv_labeldist = comp_df[comp_df[comp_protected] == 0][\"two_year_recid\"].value_counts()\n",
    "comp_unpriv_labeldist = comp_df[comp_df[comp_protected] == 1][\"two_year_recid\"].value_counts()\n",
    "\n",
    "comp_priv_nooflabels = np.array([comp_priv_labeldist[1], comp_priv_labeldist[0]])\n",
    "comp_unpriv_nooflabels = np.array([comp_unpriv_labeldist[1], comp_unpriv_labeldist[0]])"
   ]
  },
  {
   "cell_type": "markdown",
   "metadata": {},
   "source": [
    "for the unprivilaged group, the positive/negative label distribution is significantly skewed towards the negative outcome"
   ]
  },
  {
   "cell_type": "code",
   "execution_count": 6,
   "metadata": {},
   "outputs": [
    {
     "data": {
      "image/png": "[encoded data removed]",
      "text/plain": [
       "<Figure size 800x650 with 4 Axes>"
      ]
     },
     "metadata": {},
     "output_type": "display_data"
    }
   ],
   "source": [
    "fig, ax = plt.subplots(2, 2, figsize=(8,6.5))\n",
    "\n",
    "ax[0,0].pie(ad_priv_nooflabels, startangle=340)\n",
    "ax[0,0].set_title(\"Adult Income Privileged Class\")\n",
    "ax[0,1].pie(ad_unpriv_nooflabels, startangle=50)\n",
    "ax[0,1].set_title(\"Adult Income Unprivileged Class\")\n",
    "\n",
    "ax[1,0].pie(comp_priv_nooflabels, startangle=275)\n",
    "ax[1,0].set_title(\"COMPAS Privileged Class\")\n",
    "ax[1,1].pie(comp_unpriv_nooflabels, startangle=310)\n",
    "ax[1,1].set_title(\"COMPAS Unprivileged Class\")\n",
    "fig.legend(labels=labels)\n",
    "plt.savefig(\"adult priv vs unpriv outcome dist.png\")\n",
    "plt.show()"
   ]
  },
  {
   "cell_type": "code",
   "execution_count": 7,
   "metadata": {},
   "outputs": [
    {
     "name": "stdout",
     "output_type": "stream",
     "text": [
      "race\n",
      "0.0    4067\n",
      "1.0    2100\n",
      "Name: count, dtype: int64\n",
      "two_year_recid\n",
      "0.0    3358\n",
      "1.0    2809\n",
      "Name: count, dtype: int64\n"
     ]
    }
   ],
   "source": [
    "print(comp_df[comp_protected].value_counts())\n",
    "print(comp_df[\"two_year_recid\"].value_counts())"
   ]
  },
  {
   "cell_type": "code",
   "execution_count": 8,
   "metadata": {},
   "outputs": [
    {
     "name": "stdout",
     "output_type": "stream",
     "text": [
      "two_year_recid\n",
      "0.0    2080\n",
      "1.0    1987\n",
      "Name: count, dtype: int64\n",
      "two_year_recid\n",
      "0.0    1278\n",
      "1.0     822\n",
      "Name: count, dtype: int64\n"
     ]
    }
   ],
   "source": [
    "print(comp_df[comp_df[comp_protected] == 0][\"two_year_recid\"].value_counts())\n",
    "print(comp_df[comp_df[comp_protected] == 1][\"two_year_recid\"].value_counts())"
   ]
  },
  {
   "cell_type": "code",
   "execution_count": null,
   "metadata": {},
   "outputs": [],
   "source": []
  }
 ],
 "metadata": {
  "kernelspec": {
   "display_name": "Python 3",
   "language": "python",
   "name": "python3"
  },
  "language_info": {
   "codemirror_mode": {
    "name": "ipython",
    "version": 3
   },
   "file_extension": ".py",
   "mimetype": "text/x-python",
   "name": "python",
   "nbconvert_exporter": "python",
   "pygments_lexer": "ipython3",
   "version": "3.10.17"
  }
 },
 "nbformat": 4,
 "nbformat_minor": 2
}
